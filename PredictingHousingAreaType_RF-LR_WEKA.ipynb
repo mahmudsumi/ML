{
 "cells": [
  {
   "cell_type": "markdown",
   "metadata": {},
   "source": [
    "# #1: Import California housing data\n",
    "## https://github.com/ageron/handson-ml/blob/master/datasets/housing/housing.csv\n",
    "### Setup from book"
   ]
  },
  {
   "cell_type": "code",
   "execution_count": 491,
   "metadata": {},
   "outputs": [],
   "source": [
    "import os\n",
    "import tarfile\n",
    "from six.moves import urllib\n",
    "\n",
    "DOWNLOAD_ROOT = \"https://raw.githubusercontent.com/ageron/handson-ml/master/\"\n",
    "HOUSING_PATH = os.path.join(\"datasets\", \"housing\")\n",
    "HOUSING_URL = DOWNLOAD_ROOT + \"datasets/housing/housing.tgz\"\n",
    "\n",
    "def fetch_housing_data(housing_url=HOUSING_URL, housing_path=HOUSING_PATH):\n",
    "    os.makedirs(housing_path, exist_ok=True)\n",
    "    tgz_path = os.path.join(housing_path, \"housing.tgz\")\n",
    "    urllib.request.urlretrieve(housing_url, tgz_path)\n",
    "    housing_tgz = tarfile.open(tgz_path)\n",
    "    housing_tgz.extractall(path=housing_path)\n",
    "    housing_tgz.close()"
   ]
  },
  {
   "cell_type": "code",
   "execution_count": 492,
   "metadata": {},
   "outputs": [],
   "source": [
    "fetch_housing_data()"
   ]
  },
  {
   "cell_type": "code",
   "execution_count": 493,
   "metadata": {},
   "outputs": [],
   "source": [
    "import pandas as pd\n",
    "\n",
    "def load_housing_data(housing_path=HOUSING_PATH):\n",
    "    csv_path = os.path.join(housing_path, \"housing.csv\")\n",
    "    return pd.read_csv(csv_path)"
   ]
  },
  {
   "cell_type": "markdown",
   "metadata": {},
   "source": [
    "# #2: Details about data"
   ]
  },
  {
   "cell_type": "code",
   "execution_count": 494,
   "metadata": {},
   "outputs": [
    {
     "data": {
      "text/html": [
       "<div>\n",
       "<style scoped>\n",
       "    .dataframe tbody tr th:only-of-type {\n",
       "        vertical-align: middle;\n",
       "    }\n",
       "\n",
       "    .dataframe tbody tr th {\n",
       "        vertical-align: top;\n",
       "    }\n",
       "\n",
       "    .dataframe thead th {\n",
       "        text-align: right;\n",
       "    }\n",
       "</style>\n",
       "<table border=\"1\" class=\"dataframe\">\n",
       "  <thead>\n",
       "    <tr style=\"text-align: right;\">\n",
       "      <th></th>\n",
       "      <th>longitude</th>\n",
       "      <th>latitude</th>\n",
       "      <th>housing_median_age</th>\n",
       "      <th>total_rooms</th>\n",
       "      <th>total_bedrooms</th>\n",
       "      <th>population</th>\n",
       "      <th>households</th>\n",
       "      <th>median_income</th>\n",
       "      <th>median_house_value</th>\n",
       "      <th>ocean_proximity</th>\n",
       "    </tr>\n",
       "  </thead>\n",
       "  <tbody>\n",
       "    <tr>\n",
       "      <th>0</th>\n",
       "      <td>-122.23</td>\n",
       "      <td>37.88</td>\n",
       "      <td>41.0</td>\n",
       "      <td>880.0</td>\n",
       "      <td>129.0</td>\n",
       "      <td>322.0</td>\n",
       "      <td>126.0</td>\n",
       "      <td>8.3252</td>\n",
       "      <td>452600.0</td>\n",
       "      <td>NEAR BAY</td>\n",
       "    </tr>\n",
       "    <tr>\n",
       "      <th>1</th>\n",
       "      <td>-122.22</td>\n",
       "      <td>37.86</td>\n",
       "      <td>21.0</td>\n",
       "      <td>7099.0</td>\n",
       "      <td>1106.0</td>\n",
       "      <td>2401.0</td>\n",
       "      <td>1138.0</td>\n",
       "      <td>8.3014</td>\n",
       "      <td>358500.0</td>\n",
       "      <td>NEAR BAY</td>\n",
       "    </tr>\n",
       "    <tr>\n",
       "      <th>2</th>\n",
       "      <td>-122.24</td>\n",
       "      <td>37.85</td>\n",
       "      <td>52.0</td>\n",
       "      <td>1467.0</td>\n",
       "      <td>190.0</td>\n",
       "      <td>496.0</td>\n",
       "      <td>177.0</td>\n",
       "      <td>7.2574</td>\n",
       "      <td>352100.0</td>\n",
       "      <td>NEAR BAY</td>\n",
       "    </tr>\n",
       "    <tr>\n",
       "      <th>3</th>\n",
       "      <td>-122.25</td>\n",
       "      <td>37.85</td>\n",
       "      <td>52.0</td>\n",
       "      <td>1274.0</td>\n",
       "      <td>235.0</td>\n",
       "      <td>558.0</td>\n",
       "      <td>219.0</td>\n",
       "      <td>5.6431</td>\n",
       "      <td>341300.0</td>\n",
       "      <td>NEAR BAY</td>\n",
       "    </tr>\n",
       "    <tr>\n",
       "      <th>4</th>\n",
       "      <td>-122.25</td>\n",
       "      <td>37.85</td>\n",
       "      <td>52.0</td>\n",
       "      <td>1627.0</td>\n",
       "      <td>280.0</td>\n",
       "      <td>565.0</td>\n",
       "      <td>259.0</td>\n",
       "      <td>3.8462</td>\n",
       "      <td>342200.0</td>\n",
       "      <td>NEAR BAY</td>\n",
       "    </tr>\n",
       "  </tbody>\n",
       "</table>\n",
       "</div>"
      ],
      "text/plain": [
       "   longitude  latitude  housing_median_age  total_rooms  total_bedrooms  \\\n",
       "0    -122.23     37.88                41.0        880.0           129.0   \n",
       "1    -122.22     37.86                21.0       7099.0          1106.0   \n",
       "2    -122.24     37.85                52.0       1467.0           190.0   \n",
       "3    -122.25     37.85                52.0       1274.0           235.0   \n",
       "4    -122.25     37.85                52.0       1627.0           280.0   \n",
       "\n",
       "   population  households  median_income  median_house_value ocean_proximity  \n",
       "0       322.0       126.0         8.3252            452600.0        NEAR BAY  \n",
       "1      2401.0      1138.0         8.3014            358500.0        NEAR BAY  \n",
       "2       496.0       177.0         7.2574            352100.0        NEAR BAY  \n",
       "3       558.0       219.0         5.6431            341300.0        NEAR BAY  \n",
       "4       565.0       259.0         3.8462            342200.0        NEAR BAY  "
      ]
     },
     "execution_count": 494,
     "metadata": {},
     "output_type": "execute_result"
    }
   ],
   "source": [
    "df = load_housing_data()\n",
    "df.head()"
   ]
  },
  {
   "cell_type": "code",
   "execution_count": 495,
   "metadata": {},
   "outputs": [
    {
     "data": {
      "text/html": [
       "<div>\n",
       "<style scoped>\n",
       "    .dataframe tbody tr th:only-of-type {\n",
       "        vertical-align: middle;\n",
       "    }\n",
       "\n",
       "    .dataframe tbody tr th {\n",
       "        vertical-align: top;\n",
       "    }\n",
       "\n",
       "    .dataframe thead th {\n",
       "        text-align: right;\n",
       "    }\n",
       "</style>\n",
       "<table border=\"1\" class=\"dataframe\">\n",
       "  <thead>\n",
       "    <tr style=\"text-align: right;\">\n",
       "      <th></th>\n",
       "      <th>longitude</th>\n",
       "      <th>latitude</th>\n",
       "      <th>housing_median_age</th>\n",
       "      <th>total_rooms</th>\n",
       "      <th>total_bedrooms</th>\n",
       "      <th>population</th>\n",
       "      <th>households</th>\n",
       "      <th>median_income</th>\n",
       "      <th>median_house_value</th>\n",
       "    </tr>\n",
       "  </thead>\n",
       "  <tbody>\n",
       "    <tr>\n",
       "      <th>count</th>\n",
       "      <td>20640.000000</td>\n",
       "      <td>20640.000000</td>\n",
       "      <td>20640.000000</td>\n",
       "      <td>20640.000000</td>\n",
       "      <td>20433.000000</td>\n",
       "      <td>20640.000000</td>\n",
       "      <td>20640.000000</td>\n",
       "      <td>20640.000000</td>\n",
       "      <td>20640.000000</td>\n",
       "    </tr>\n",
       "    <tr>\n",
       "      <th>mean</th>\n",
       "      <td>-119.569704</td>\n",
       "      <td>35.631861</td>\n",
       "      <td>28.639486</td>\n",
       "      <td>2635.763081</td>\n",
       "      <td>537.870553</td>\n",
       "      <td>1425.476744</td>\n",
       "      <td>499.539680</td>\n",
       "      <td>3.870671</td>\n",
       "      <td>206855.816909</td>\n",
       "    </tr>\n",
       "    <tr>\n",
       "      <th>std</th>\n",
       "      <td>2.003532</td>\n",
       "      <td>2.135952</td>\n",
       "      <td>12.585558</td>\n",
       "      <td>2181.615252</td>\n",
       "      <td>421.385070</td>\n",
       "      <td>1132.462122</td>\n",
       "      <td>382.329753</td>\n",
       "      <td>1.899822</td>\n",
       "      <td>115395.615874</td>\n",
       "    </tr>\n",
       "    <tr>\n",
       "      <th>min</th>\n",
       "      <td>-124.350000</td>\n",
       "      <td>32.540000</td>\n",
       "      <td>1.000000</td>\n",
       "      <td>2.000000</td>\n",
       "      <td>1.000000</td>\n",
       "      <td>3.000000</td>\n",
       "      <td>1.000000</td>\n",
       "      <td>0.499900</td>\n",
       "      <td>14999.000000</td>\n",
       "    </tr>\n",
       "    <tr>\n",
       "      <th>25%</th>\n",
       "      <td>-121.800000</td>\n",
       "      <td>33.930000</td>\n",
       "      <td>18.000000</td>\n",
       "      <td>1447.750000</td>\n",
       "      <td>296.000000</td>\n",
       "      <td>787.000000</td>\n",
       "      <td>280.000000</td>\n",
       "      <td>2.563400</td>\n",
       "      <td>119600.000000</td>\n",
       "    </tr>\n",
       "    <tr>\n",
       "      <th>50%</th>\n",
       "      <td>-118.490000</td>\n",
       "      <td>34.260000</td>\n",
       "      <td>29.000000</td>\n",
       "      <td>2127.000000</td>\n",
       "      <td>435.000000</td>\n",
       "      <td>1166.000000</td>\n",
       "      <td>409.000000</td>\n",
       "      <td>3.534800</td>\n",
       "      <td>179700.000000</td>\n",
       "    </tr>\n",
       "    <tr>\n",
       "      <th>75%</th>\n",
       "      <td>-118.010000</td>\n",
       "      <td>37.710000</td>\n",
       "      <td>37.000000</td>\n",
       "      <td>3148.000000</td>\n",
       "      <td>647.000000</td>\n",
       "      <td>1725.000000</td>\n",
       "      <td>605.000000</td>\n",
       "      <td>4.743250</td>\n",
       "      <td>264725.000000</td>\n",
       "    </tr>\n",
       "    <tr>\n",
       "      <th>max</th>\n",
       "      <td>-114.310000</td>\n",
       "      <td>41.950000</td>\n",
       "      <td>52.000000</td>\n",
       "      <td>39320.000000</td>\n",
       "      <td>6445.000000</td>\n",
       "      <td>35682.000000</td>\n",
       "      <td>6082.000000</td>\n",
       "      <td>15.000100</td>\n",
       "      <td>500001.000000</td>\n",
       "    </tr>\n",
       "  </tbody>\n",
       "</table>\n",
       "</div>"
      ],
      "text/plain": [
       "          longitude      latitude  housing_median_age   total_rooms  \\\n",
       "count  20640.000000  20640.000000        20640.000000  20640.000000   \n",
       "mean    -119.569704     35.631861           28.639486   2635.763081   \n",
       "std        2.003532      2.135952           12.585558   2181.615252   \n",
       "min     -124.350000     32.540000            1.000000      2.000000   \n",
       "25%     -121.800000     33.930000           18.000000   1447.750000   \n",
       "50%     -118.490000     34.260000           29.000000   2127.000000   \n",
       "75%     -118.010000     37.710000           37.000000   3148.000000   \n",
       "max     -114.310000     41.950000           52.000000  39320.000000   \n",
       "\n",
       "       total_bedrooms    population    households  median_income  \\\n",
       "count    20433.000000  20640.000000  20640.000000   20640.000000   \n",
       "mean       537.870553   1425.476744    499.539680       3.870671   \n",
       "std        421.385070   1132.462122    382.329753       1.899822   \n",
       "min          1.000000      3.000000      1.000000       0.499900   \n",
       "25%        296.000000    787.000000    280.000000       2.563400   \n",
       "50%        435.000000   1166.000000    409.000000       3.534800   \n",
       "75%        647.000000   1725.000000    605.000000       4.743250   \n",
       "max       6445.000000  35682.000000   6082.000000      15.000100   \n",
       "\n",
       "       median_house_value  \n",
       "count        20640.000000  \n",
       "mean        206855.816909  \n",
       "std         115395.615874  \n",
       "min          14999.000000  \n",
       "25%         119600.000000  \n",
       "50%         179700.000000  \n",
       "75%         264725.000000  \n",
       "max         500001.000000  "
      ]
     },
     "execution_count": 495,
     "metadata": {},
     "output_type": "execute_result"
    }
   ],
   "source": [
    "# Details about dataframe\n",
    "df.describe()"
   ]
  },
  {
   "cell_type": "code",
   "execution_count": 496,
   "metadata": {},
   "outputs": [
    {
     "name": "stdout",
     "output_type": "stream",
     "text": [
      "<class 'pandas.core.frame.DataFrame'>\n",
      "RangeIndex: 20640 entries, 0 to 20639\n",
      "Data columns (total 10 columns):\n",
      "longitude             20640 non-null float64\n",
      "latitude              20640 non-null float64\n",
      "housing_median_age    20640 non-null float64\n",
      "total_rooms           20640 non-null float64\n",
      "total_bedrooms        20433 non-null float64\n",
      "population            20640 non-null float64\n",
      "households            20640 non-null float64\n",
      "median_income         20640 non-null float64\n",
      "median_house_value    20640 non-null float64\n",
      "ocean_proximity       20640 non-null object\n",
      "dtypes: float64(9), object(1)\n",
      "memory usage: 1.6+ MB\n"
     ]
    }
   ],
   "source": [
    "df.info()"
   ]
  },
  {
   "cell_type": "code",
   "execution_count": 497,
   "metadata": {},
   "outputs": [
    {
     "data": {
      "text/plain": [
       "longitude               0\n",
       "latitude                0\n",
       "housing_median_age      0\n",
       "total_rooms             0\n",
       "total_bedrooms        207\n",
       "population              0\n",
       "households              0\n",
       "median_income           0\n",
       "median_house_value      0\n",
       "ocean_proximity         0\n",
       "dtype: int64"
      ]
     },
     "execution_count": 497,
     "metadata": {},
     "output_type": "execute_result"
    }
   ],
   "source": [
    "# Find missing values count in rows for each column\n",
    "df.isnull().sum()"
   ]
  },
  {
   "cell_type": "code",
   "execution_count": 498,
   "metadata": {},
   "outputs": [
    {
     "data": {
      "text/plain": [
       "longitude            -121.77\n",
       "latitude               39.66\n",
       "housing_median_age        20\n",
       "total_rooms             3759\n",
       "total_bedrooms           NaN\n",
       "population              1705\n",
       "households               600\n",
       "median_income          4.712\n",
       "median_house_value    158600\n",
       "ocean_proximity       INLAND\n",
       "Name: 1097, dtype: object"
      ]
     },
     "execution_count": 498,
     "metadata": {},
     "output_type": "execute_result"
    }
   ],
   "source": [
    "# Check replaced missing value type for row #1097 with missing value\n",
    "df.iloc[1097]"
   ]
  },
  {
   "cell_type": "markdown",
   "metadata": {},
   "source": [
    "# #3: Replace mean for missing value"
   ]
  },
  {
   "cell_type": "code",
   "execution_count": 499,
   "metadata": {},
   "outputs": [
    {
     "data": {
      "text/plain": [
       "537.8705525375618"
      ]
     },
     "execution_count": 499,
     "metadata": {},
     "output_type": "execute_result"
    }
   ],
   "source": [
    "# Find mean and assign variable\n",
    "mean = df['total_bedrooms'].mean()\n",
    "mean"
   ]
  },
  {
   "cell_type": "code",
   "execution_count": 500,
   "metadata": {},
   "outputs": [],
   "source": [
    "# Fill missing values (NaN) with mean\n",
    "df['total_bedrooms'].fillna(mean, inplace=True)"
   ]
  },
  {
   "cell_type": "code",
   "execution_count": 501,
   "metadata": {},
   "outputs": [
    {
     "data": {
      "text/plain": [
       "longitude             -121.77\n",
       "latitude                39.66\n",
       "housing_median_age         20\n",
       "total_rooms              3759\n",
       "total_bedrooms        537.871\n",
       "population               1705\n",
       "households                600\n",
       "median_income           4.712\n",
       "median_house_value     158600\n",
       "ocean_proximity        INLAND\n",
       "Name: 1097, dtype: object"
      ]
     },
     "execution_count": 501,
     "metadata": {},
     "output_type": "execute_result"
    }
   ],
   "source": [
    "# Check to make sure mean has been replaced in missing value row #1097\n",
    "df.iloc[1097]"
   ]
  },
  {
   "cell_type": "markdown",
   "metadata": {},
   "source": [
    "# #4: Replace spaces in string values \n",
    "## Column: ocean_proximity"
   ]
  },
  {
   "cell_type": "code",
   "execution_count": 502,
   "metadata": {},
   "outputs": [
    {
     "data": {
      "text/plain": [
       "<1H OCEAN     9136\n",
       "INLAND        6551\n",
       "NEAR OCEAN    2658\n",
       "NEAR BAY      2290\n",
       "ISLAND           5\n",
       "Name: ocean_proximity, dtype: int64"
      ]
     },
     "execution_count": 502,
     "metadata": {},
     "output_type": "execute_result"
    }
   ],
   "source": [
    "df[\"ocean_proximity\"].value_counts()"
   ]
  },
  {
   "cell_type": "code",
   "execution_count": 503,
   "metadata": {},
   "outputs": [],
   "source": [
    "# Replace space with underscore for <1H OCEAN\n",
    "df[\"ocean_proximity\"].replace(\"<1H OCEAN\", \"1H_OCEAN\",inplace=True)"
   ]
  },
  {
   "cell_type": "code",
   "execution_count": 504,
   "metadata": {},
   "outputs": [],
   "source": [
    "# Replace space with underscore for NEAR OCEAN\n",
    "df[\"ocean_proximity\"].replace(\"NEAR OCEAN\", \"NEAR_OCEAN\", inplace=True)"
   ]
  },
  {
   "cell_type": "code",
   "execution_count": 505,
   "metadata": {},
   "outputs": [],
   "source": [
    "# Replace space with underscore for NEAR BAY\n",
    "df[\"ocean_proximity\"].replace(\"NEAR BAY\", \"NEAR_BAY\",inplace=True)"
   ]
  },
  {
   "cell_type": "code",
   "execution_count": 506,
   "metadata": {},
   "outputs": [
    {
     "data": {
      "text/plain": [
       "1H_OCEAN      9136\n",
       "INLAND        6551\n",
       "NEAR_OCEAN    2658\n",
       "NEAR_BAY      2290\n",
       "ISLAND           5\n",
       "Name: ocean_proximity, dtype: int64"
      ]
     },
     "execution_count": 506,
     "metadata": {},
     "output_type": "execute_result"
    }
   ],
   "source": [
    "# Check for replacements\n",
    "df[\"ocean_proximity\"].value_counts()"
   ]
  },
  {
   "cell_type": "markdown",
   "metadata": {},
   "source": [
    "# #5: Export dataframe to arff format"
   ]
  },
  {
   "cell_type": "code",
   "execution_count": 507,
   "metadata": {},
   "outputs": [],
   "source": [
    "# Create a clean data csv without header and index\n",
    "df.to_csv(\"clean_housingdata.csv\", header=False, index=False)"
   ]
  },
  {
   "cell_type": "code",
   "execution_count": 508,
   "metadata": {},
   "outputs": [],
   "source": [
    "# New clean df without header\n",
    "df_clean = pd.read_csv(\"clean_housingdata.csv\")"
   ]
  },
  {
   "cell_type": "code",
   "execution_count": 511,
   "metadata": {},
   "outputs": [
    {
     "data": {
      "text/plain": [
       "longitude             float64\n",
       "latitude              float64\n",
       "housing_median_age    float64\n",
       "total_rooms           float64\n",
       "total_bedrooms        float64\n",
       "population            float64\n",
       "households            float64\n",
       "median_income         float64\n",
       "median_house_value    float64\n",
       "ocean_proximity        object\n",
       "dtype: object"
      ]
     },
     "execution_count": 511,
     "metadata": {},
     "output_type": "execute_result"
    }
   ],
   "source": [
    "# Check data type names\n",
    "df.dtypes"
   ]
  },
  {
   "cell_type": "code",
   "execution_count": 512,
   "metadata": {},
   "outputs": [],
   "source": [
    "# Write .arff file\n",
    "f = open(\"mahmud_californiahousingdata-cleaned.arff\",\"w\")\n",
    "\n",
    "add2arff = []\n",
    "\n",
    "# Append Title as comment (%) and @relation\n",
    "add2arff.append(\"% TITLE: California Housing Data (Cleaned)\" \n",
    "                +\"\\n\\n\"\n",
    "                +\"@relation californiahousingdata\"\n",
    "                +\"\\n\\n\")\n",
    "\n",
    "# FOR loop through column names\n",
    "for i in range(df.shape[1]):\n",
    "    \n",
    "    # IF clause for OBJECT ocean_proximity data type\n",
    "    if df.dtypes[i]=='O': \n",
    "        \n",
    "        # Get all value names with for loop\n",
    "        names = [str(_i) for _i in np.unique(df.iloc[:,i])] \n",
    "        \n",
    "        # Format to join, replacee with commas, add to string with curly braces \n",
    "        names = \",\".join(names)\n",
    "        names = names.replace(\"[\",\"\")\n",
    "        names = names.replace(\"]\",\"\")\n",
    "        strings = \" {\" + names +\"}\"\n",
    "        \n",
    "        # Append to add2arff list\n",
    "        add2arff.append(\"@attribute \" + df.columns[i] + strings + \"\\n\")\n",
    "    \n",
    "    # ELSE clause for all other FLOAT64 data types\n",
    "    else:\n",
    "        \n",
    "        # Append to add2arff list with formatting\n",
    "        add2arff.append(\"@attribute \" + df.columns[i] + \" NUMERIC\\n\")\n",
    "        \n",
    "# Append data header @data   \n",
    "add2arff.append(\"\\n@data\\n\")\n",
    "\n",
    "# FOR loop for each instance\n",
    "for i in range(df_clean.shape[0]):\n",
    "    \n",
    "    datastrings = \"\"\n",
    "    \n",
    "    # FOR loop for each feature\n",
    "    for j in range(df.shape[1]):\n",
    "        \n",
    "            # IF clause to convert objects as strings\n",
    "            if df_clean.dtypes[j]=='O':\n",
    "                datastrings += \"\\\"\" + str(df_clean.iloc[i,j]) + \"\\\"\"\n",
    "            \n",
    "            # ELSE clause for numerics\n",
    "            else:\n",
    "                datastrings += str(df_clean.iloc[i,j])\n",
    "            \n",
    "            # Add comma IF not last feature\n",
    "            if j!=df_clean.shape[1]-1:\n",
    "                datastrings += \",\"\n",
    "    \n",
    "    # ADD and APPEND            \n",
    "    datastrings +=\"\\n\"\n",
    "    add2arff.append(datastrings)\n",
    "    \n",
    "# Write the master list into the file and close\n",
    "f.writelines(add2arff)\n",
    "f.close()"
   ]
  },
  {
   "cell_type": "markdown",
   "metadata": {},
   "source": [
    "# 6: WEKA accuracy results"
   ]
  },
  {
   "cell_type": "markdown",
   "metadata": {},
   "source": [
    "## Classifier: Random Forest"
   ]
  },
  {
   "cell_type": "markdown",
   "metadata": {},
   "source": [
    "### === Run information ===\n",
    "\n",
    "Scheme:       weka.classifiers.trees.RandomForest -P 100 -I 100 -num-slots 1 -K 0 -M 1.0 -V 0.001 -S 1\n",
    "Relation:     californiahousingdata\n",
    "Instances:    20639\n",
    "Attributes:   10\n",
    "              longitude\n",
    "              latitude\n",
    "              housing_median_age\n",
    "              total_rooms\n",
    "              total_bedrooms\n",
    "              population\n",
    "              households\n",
    "              median_income\n",
    "              median_house_value\n",
    "              ocean_proximity\n",
    "Test mode:    10-fold cross-validation\n",
    "\n",
    "### === Classifier model (full training set) ===\n",
    "\n",
    "RandomForest\n",
    "\n",
    "Bagging with 100 iterations and base learner\n",
    "\n",
    "weka.classifiers.trees.RandomTree -K 0 -M 1.0 -V 0.001 -S 1 -do-not-check-capabilities\n",
    "\n",
    "Time taken to build model: 5.53 seconds\n",
    "\n",
    "### === Stratified cross-validation ===\n",
    "### === Summary ===\n",
    "\n",
    "Correctly Classified Instances       20258               98.154  %\n",
    "Incorrectly Classified Instances       381                1.846  %\n",
    "Kappa statistic                          0.9726\n",
    "Mean absolute error                      0.0226\n",
    "Root mean squared error                  0.0833\n",
    "Relative absolute error                  8.3742 %\n",
    "Root relative squared error             22.6904 %\n",
    "Total Number of Instances            20639     \n",
    "\n",
    "### === Detailed Accuracy By Class ===\n",
    "\n",
    "                 TP Rate  FP Rate  Precision  Recall   F-Measure  MCC      ROC Area  PRC Area  Class\n",
    "                 0.984    0.016    0.979      0.984    0.982      0.967    0.998     0.998     1H_OCEAN\n",
    "                 0.992    0.004    0.991      0.992    0.991      0.987    1.000     1.000     INLAND\n",
    "                 1.000    0.000    1.000      1.000    1.000      1.000    1.000     1.000     ISLAND\n",
    "                 0.990    0.002    0.984      0.990    0.987      0.985    1.000     0.999     NEAR_BAY\n",
    "                 0.942    0.005    0.963      0.942    0.952      0.945    0.997     0.989     NEAR_OCEAN\n",
    "Weighted Avg.    0.982    0.010    0.981      0.982    0.981      0.973    0.999     0.997     \n",
    "\n",
    "### === Confusion Matrix ===\n",
    "\n",
    "    a    b    c    d    e   <-- classified as\n",
    " 8989   56    0   12   79 |    a = 1H_OCEAN\n",
    "   54 6496    0    1    0 |    b = INLAND\n",
    "    0    0    5    0    0 |    c = ISLAND\n",
    "    4    2    0 2265   18 |    d = NEAR_BAY\n",
    "  131    1    0   23 2503 |    e = NEAR_OCEAN"
   ]
  },
  {
   "cell_type": "markdown",
   "metadata": {},
   "source": [
    "## Regressor: Linear Regression"
   ]
  },
  {
   "cell_type": "markdown",
   "metadata": {},
   "source": [
    "### === Run information ===\n",
    "\n",
    "Scheme:       weka.classifiers.functions.LinearRegression -S 0 -R 1.0E-8 -num-decimal-places 4\n",
    "Relation:     californiahousingdata\n",
    "Instances:    20639\n",
    "Attributes:   10\n",
    "              longitude\n",
    "              latitude\n",
    "              housing_median_age\n",
    "              total_rooms\n",
    "              total_bedrooms\n",
    "              population\n",
    "              households\n",
    "              median_income\n",
    "              median_house_value\n",
    "              ocean_proximity\n",
    "Test mode:    10-fold cross-validation\n",
    "\n",
    "### === Classifier model (full training set) ===\n",
    "\n",
    "\n",
    "Linear Regression Model\n",
    "\n",
    "housing_median_age =\n",
    "\n",
    "     -1.5438 * longitude +\n",
    "     -1.5796 * latitude +\n",
    "     -0.0008 * total_rooms +\n",
    "     -0.0071 * total_bedrooms +\n",
    "      0.0006 * population +\n",
    "     -2.047  * median_income +\n",
    "      0      * median_house_value +\n",
    "      1.9638 * ocean_proximity=1H_OCEAN,NEAR_OCEAN,NEAR_BAY,ISLAND +\n",
    "     -1.1064 * ocean_proximity=NEAR_OCEAN,NEAR_BAY,ISLAND +\n",
    "      8.5964 * ocean_proximity=NEAR_BAY,ISLAND +\n",
    "    -93.8906\n",
    "\n",
    "Time taken to build model: 0.24 seconds\n",
    "\n",
    "### === Cross-validation ===\n",
    "### === Summary ===\n",
    "\n",
    "Correlation coefficient                  0.5124\n",
    "Mean absolute error                      8.7859\n",
    "Root mean squared error                 10.8073\n",
    "Relative absolute error                 83.2631 %\n",
    "Root relative squared error             85.8672 %\n",
    "Total Number of Instances            20639 "
   ]
  },
  {
   "cell_type": "markdown",
   "metadata": {},
   "source": [
    "# 7: RapidMiner Results"
   ]
  },
  {
   "cell_type": "markdown",
   "metadata": {},
   "source": [
    "### Logistic Regression\t\n",
    "\n",
    "#### accuracy: 80.06% +/- 0.24% (micro average: 80.06%)\n",
    "\n",
    "ConfusionMatrix:\n",
    "True:\tNEAR BAY\t<1H OCEAN\tINLAND\tNEAR OCEAN\tISLAND\n",
    "NEAR BAY:\t523\t145\t7\t137\t0\n",
    "<1H OCEAN:\t114\t2373\t100\t519\t1\n",
    "INLAND:\t19\t41\t1758\t37\t0\n",
    "NEAR OCEAN:\t0\t55\t1\t67\t0\n",
    "ISLAND:\t0\t0\t0\t0\t0\n",
    "\n",
    "#### classification_error: 19.94% +/- 0.24% (micro average: 19.94%)\n",
    "\n",
    "ConfusionMatrix:\n",
    "True:\tNEAR BAY\t<1H OCEAN\tINLAND\tNEAR OCEAN\tISLAND\n",
    "NEAR BAY:\t523\t145\t7\t137\t0\n",
    "<1H OCEAN:\t114\t2373\t100\t519\t1\n",
    "INLAND:\t19\t41\t1758\t37\t0\n",
    "NEAR OCEAN:\t0\t55\t1\t67\t0\n",
    "ISLAND:\t0\t0\t0\t0\t0\n",
    "\n",
    "### Random Forest\t\n",
    "\n",
    "#### accuracy: 78.40% +/- 0.31% (micro average: 78.40%)\n",
    "ConfusionMatrix:\n",
    "True:\tNEAR BAY\t<1H OCEAN\tINLAND\tNEAR OCEAN\tISLAND\n",
    "NEAR BAY:\t652\t28\t10\t139\t0\n",
    "<1H OCEAN:\t0\t2554\t665\t394\t0\n",
    "INLAND:\t0\t21\t1197\t5\t0\n",
    "NEAR OCEAN:\t0\t12\t0\t220\t0\n",
    "ISLAND:\t0\t0\t0\t0\t0\n",
    "\n",
    "#### classification_error: 21.60% +/- 0.31% (micro average: 21.60%)\n",
    "ConfusionMatrix:\n",
    "True:\tNEAR BAY\t<1H OCEAN\tINLAND\tNEAR OCEAN\tISLAND\n",
    "NEAR BAY:\t652\t28\t10\t139\t0\n",
    "<1H OCEAN:\t0\t2554\t665\t394\t0\n",
    "INLAND:\t0\t21\t1197\t5\t0\n",
    "NEAR OCEAN:\t0\t12\t0\t220\t0\n",
    "ISLAND:\t0\t0\t0\t0\t0\n"
   ]
  }
 ],
 "metadata": {
  "kernelspec": {
   "display_name": "Python 3",
   "language": "python",
   "name": "python3"
  },
  "language_info": {
   "codemirror_mode": {
    "name": "ipython",
    "version": 3
   },
   "file_extension": ".py",
   "mimetype": "text/x-python",
   "name": "python",
   "nbconvert_exporter": "python",
   "pygments_lexer": "ipython3",
   "version": "3.7.5"
  }
 },
 "nbformat": 4,
 "nbformat_minor": 2
}
