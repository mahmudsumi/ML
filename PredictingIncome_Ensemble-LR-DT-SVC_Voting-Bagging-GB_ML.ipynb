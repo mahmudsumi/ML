{
 "cells": [
  {
   "cell_type": "markdown",
   "metadata": {},
   "source": [
    "# #1: Import all required libraries"
   ]
  },
  {
   "cell_type": "code",
   "execution_count": 1,
   "metadata": {},
   "outputs": [],
   "source": [
    "import pandas as pd\n",
    "import numpy as np\n",
    "import matplotlib.pyplot as plt\n",
    "%matplotlib inline\n",
    "from matplotlib.legend_handler import HandlerLine2D"
   ]
  },
  {
   "cell_type": "code",
   "execution_count": 2,
   "metadata": {},
   "outputs": [],
   "source": [
    "from sklearn.preprocessing import OneHotEncoder\n",
    "from sklearn import preprocessing\n",
    "from sklearn.model_selection import train_test_split,cross_val_score"
   ]
  },
  {
   "cell_type": "code",
   "execution_count": 3,
   "metadata": {},
   "outputs": [],
   "source": [
    "from sklearn.metrics import accuracy_score\n",
    "from sklearn.metrics import roc_curve, roc_auc_score\n",
    "from sklearn.metrics import auc"
   ]
  },
  {
   "cell_type": "code",
   "execution_count": 4,
   "metadata": {},
   "outputs": [],
   "source": [
    "from sklearn.linear_model import LogisticRegression\n",
    "from sklearn.tree import DecisionTreeClassifier\n",
    "from sklearn.svm import SVC"
   ]
  },
  {
   "cell_type": "code",
   "execution_count": 5,
   "metadata": {},
   "outputs": [],
   "source": [
    "from sklearn.ensemble import VotingClassifier\n",
    "from sklearn.ensemble import BaggingClassifier, RandomForestClassifier,ExtraTreesClassifier"
   ]
  },
  {
   "cell_type": "code",
   "execution_count": 6,
   "metadata": {},
   "outputs": [],
   "source": [
    "from sklearn.ensemble import GradientBoostingClassifier\n",
    "from sklearn.model_selection import GridSearchCV"
   ]
  },
  {
   "cell_type": "code",
   "execution_count": 7,
   "metadata": {},
   "outputs": [],
   "source": [
    "from sklearn.model_selection import cross_validate"
   ]
  },
  {
   "cell_type": "markdown",
   "metadata": {},
   "source": [
    "--------------------------------------------------------------------------------------------------------------------\n",
    "# #2: Import dataset from URL"
   ]
  },
  {
   "cell_type": "code",
   "execution_count": 11,
   "metadata": {},
   "outputs": [],
   "source": [
    "# Read data from the URL and store into a data frame. \n",
    "data=pd.read_csv(\"adult.data\",\n",
    "                 header=None, sep=',', na_values=' ?', keep_default_na=True, na_filter=True)"
   ]
  },
  {
   "cell_type": "markdown",
   "metadata": {},
   "source": [
    "\n",
    "#### **PROBLEM\n",
    "**The columns don't have headers in the data. Add column names 'age','workclass','fnlwgt','education','education_num','marital_status','occupation','relationship',\n",
    "                         'race','sex','capital_gain','capital_loss','hours_per_week','native_country','income'"
   ]
  },
  {
   "cell_type": "code",
   "execution_count": 12,
   "metadata": {},
   "outputs": [],
   "source": [
    "#Add headers\n",
    "data=pd.DataFrame(data.values,columns=['age','workclass','fnlwgt','education','education_num','marital_status','occupation','relationship',\n",
    "                         'race','sex','capital_gain','capital_loss','hours_per_week','native_country','income'])"
   ]
  },
  {
   "cell_type": "code",
   "execution_count": 13,
   "metadata": {},
   "outputs": [
    {
     "name": "stdout",
     "output_type": "stream",
     "text": [
      "\n",
      "Updated column labels for main dataset :\n"
     ]
    },
    {
     "data": {
      "text/html": [
       "<div>\n",
       "<style scoped>\n",
       "    .dataframe tbody tr th:only-of-type {\n",
       "        vertical-align: middle;\n",
       "    }\n",
       "\n",
       "    .dataframe tbody tr th {\n",
       "        vertical-align: top;\n",
       "    }\n",
       "\n",
       "    .dataframe thead th {\n",
       "        text-align: right;\n",
       "    }\n",
       "</style>\n",
       "<table border=\"1\" class=\"dataframe\">\n",
       "  <thead>\n",
       "    <tr style=\"text-align: right;\">\n",
       "      <th></th>\n",
       "      <th>age</th>\n",
       "      <th>workclass</th>\n",
       "      <th>fnlwgt</th>\n",
       "      <th>education</th>\n",
       "      <th>education_num</th>\n",
       "      <th>marital_status</th>\n",
       "      <th>occupation</th>\n",
       "      <th>relationship</th>\n",
       "      <th>race</th>\n",
       "      <th>sex</th>\n",
       "      <th>capital_gain</th>\n",
       "      <th>capital_loss</th>\n",
       "      <th>hours_per_week</th>\n",
       "      <th>native_country</th>\n",
       "      <th>income</th>\n",
       "    </tr>\n",
       "  </thead>\n",
       "  <tbody>\n",
       "    <tr>\n",
       "      <th>0</th>\n",
       "      <td>39</td>\n",
       "      <td>State-gov</td>\n",
       "      <td>77516</td>\n",
       "      <td>Bachelors</td>\n",
       "      <td>13</td>\n",
       "      <td>Never-married</td>\n",
       "      <td>Adm-clerical</td>\n",
       "      <td>Not-in-family</td>\n",
       "      <td>White</td>\n",
       "      <td>Male</td>\n",
       "      <td>2174</td>\n",
       "      <td>0</td>\n",
       "      <td>40</td>\n",
       "      <td>United-States</td>\n",
       "      <td>&lt;=50K</td>\n",
       "    </tr>\n",
       "    <tr>\n",
       "      <th>1</th>\n",
       "      <td>50</td>\n",
       "      <td>Self-emp-not-inc</td>\n",
       "      <td>83311</td>\n",
       "      <td>Bachelors</td>\n",
       "      <td>13</td>\n",
       "      <td>Married-civ-spouse</td>\n",
       "      <td>Exec-managerial</td>\n",
       "      <td>Husband</td>\n",
       "      <td>White</td>\n",
       "      <td>Male</td>\n",
       "      <td>0</td>\n",
       "      <td>0</td>\n",
       "      <td>13</td>\n",
       "      <td>United-States</td>\n",
       "      <td>&lt;=50K</td>\n",
       "    </tr>\n",
       "    <tr>\n",
       "      <th>2</th>\n",
       "      <td>38</td>\n",
       "      <td>Private</td>\n",
       "      <td>215646</td>\n",
       "      <td>HS-grad</td>\n",
       "      <td>9</td>\n",
       "      <td>Divorced</td>\n",
       "      <td>Handlers-cleaners</td>\n",
       "      <td>Not-in-family</td>\n",
       "      <td>White</td>\n",
       "      <td>Male</td>\n",
       "      <td>0</td>\n",
       "      <td>0</td>\n",
       "      <td>40</td>\n",
       "      <td>United-States</td>\n",
       "      <td>&lt;=50K</td>\n",
       "    </tr>\n",
       "    <tr>\n",
       "      <th>3</th>\n",
       "      <td>53</td>\n",
       "      <td>Private</td>\n",
       "      <td>234721</td>\n",
       "      <td>11th</td>\n",
       "      <td>7</td>\n",
       "      <td>Married-civ-spouse</td>\n",
       "      <td>Handlers-cleaners</td>\n",
       "      <td>Husband</td>\n",
       "      <td>Black</td>\n",
       "      <td>Male</td>\n",
       "      <td>0</td>\n",
       "      <td>0</td>\n",
       "      <td>40</td>\n",
       "      <td>United-States</td>\n",
       "      <td>&lt;=50K</td>\n",
       "    </tr>\n",
       "    <tr>\n",
       "      <th>4</th>\n",
       "      <td>28</td>\n",
       "      <td>Private</td>\n",
       "      <td>338409</td>\n",
       "      <td>Bachelors</td>\n",
       "      <td>13</td>\n",
       "      <td>Married-civ-spouse</td>\n",
       "      <td>Prof-specialty</td>\n",
       "      <td>Wife</td>\n",
       "      <td>Black</td>\n",
       "      <td>Female</td>\n",
       "      <td>0</td>\n",
       "      <td>0</td>\n",
       "      <td>40</td>\n",
       "      <td>Cuba</td>\n",
       "      <td>&lt;=50K</td>\n",
       "    </tr>\n",
       "  </tbody>\n",
       "</table>\n",
       "</div>"
      ],
      "text/plain": [
       "  age          workclass  fnlwgt   education education_num  \\\n",
       "0  39          State-gov   77516   Bachelors            13   \n",
       "1  50   Self-emp-not-inc   83311   Bachelors            13   \n",
       "2  38            Private  215646     HS-grad             9   \n",
       "3  53            Private  234721        11th             7   \n",
       "4  28            Private  338409   Bachelors            13   \n",
       "\n",
       "        marital_status          occupation    relationship    race      sex  \\\n",
       "0        Never-married        Adm-clerical   Not-in-family   White     Male   \n",
       "1   Married-civ-spouse     Exec-managerial         Husband   White     Male   \n",
       "2             Divorced   Handlers-cleaners   Not-in-family   White     Male   \n",
       "3   Married-civ-spouse   Handlers-cleaners         Husband   Black     Male   \n",
       "4   Married-civ-spouse      Prof-specialty            Wife   Black   Female   \n",
       "\n",
       "  capital_gain capital_loss hours_per_week  native_country  income  \n",
       "0         2174            0             40   United-States   <=50K  \n",
       "1            0            0             13   United-States   <=50K  \n",
       "2            0            0             40   United-States   <=50K  \n",
       "3            0            0             40   United-States   <=50K  \n",
       "4            0            0             40            Cuba   <=50K  "
      ]
     },
     "execution_count": 13,
     "metadata": {},
     "output_type": "execute_result"
    }
   ],
   "source": [
    "#Check to see if column labeled properly\n",
    "print('\\nUpdated column labels for main dataset :')\n",
    "data.head()"
   ]
  },
  {
   "cell_type": "markdown",
   "metadata": {},
   "source": [
    "--------------------------------------------------------------------------------------------------------------------\n",
    "# #3: Find basic info about data\n",
    "1. Quick info about data\n",
    "2. Check number of rows\n",
    "3. Check data types for each column\n",
    "4. Check for missing values"
   ]
  },
  {
   "cell_type": "code",
   "execution_count": 14,
   "metadata": {},
   "outputs": [
    {
     "name": "stdout",
     "output_type": "stream",
     "text": [
      "\n",
      "Description of main dataset :\n"
     ]
    },
    {
     "data": {
      "text/html": [
       "<div>\n",
       "<style scoped>\n",
       "    .dataframe tbody tr th:only-of-type {\n",
       "        vertical-align: middle;\n",
       "    }\n",
       "\n",
       "    .dataframe tbody tr th {\n",
       "        vertical-align: top;\n",
       "    }\n",
       "\n",
       "    .dataframe thead th {\n",
       "        text-align: right;\n",
       "    }\n",
       "</style>\n",
       "<table border=\"1\" class=\"dataframe\">\n",
       "  <thead>\n",
       "    <tr style=\"text-align: right;\">\n",
       "      <th></th>\n",
       "      <th>age</th>\n",
       "      <th>workclass</th>\n",
       "      <th>fnlwgt</th>\n",
       "      <th>education</th>\n",
       "      <th>education_num</th>\n",
       "      <th>marital_status</th>\n",
       "      <th>occupation</th>\n",
       "      <th>relationship</th>\n",
       "      <th>race</th>\n",
       "      <th>sex</th>\n",
       "      <th>capital_gain</th>\n",
       "      <th>capital_loss</th>\n",
       "      <th>hours_per_week</th>\n",
       "      <th>native_country</th>\n",
       "      <th>income</th>\n",
       "    </tr>\n",
       "  </thead>\n",
       "  <tbody>\n",
       "    <tr>\n",
       "      <th>count</th>\n",
       "      <td>32561</td>\n",
       "      <td>30725</td>\n",
       "      <td>32561</td>\n",
       "      <td>32561</td>\n",
       "      <td>32561</td>\n",
       "      <td>32561</td>\n",
       "      <td>30718</td>\n",
       "      <td>32561</td>\n",
       "      <td>32561</td>\n",
       "      <td>32561</td>\n",
       "      <td>32561</td>\n",
       "      <td>32561</td>\n",
       "      <td>32561</td>\n",
       "      <td>31978</td>\n",
       "      <td>32561</td>\n",
       "    </tr>\n",
       "    <tr>\n",
       "      <th>unique</th>\n",
       "      <td>73</td>\n",
       "      <td>8</td>\n",
       "      <td>21648</td>\n",
       "      <td>16</td>\n",
       "      <td>16</td>\n",
       "      <td>7</td>\n",
       "      <td>14</td>\n",
       "      <td>6</td>\n",
       "      <td>5</td>\n",
       "      <td>2</td>\n",
       "      <td>119</td>\n",
       "      <td>92</td>\n",
       "      <td>94</td>\n",
       "      <td>41</td>\n",
       "      <td>2</td>\n",
       "    </tr>\n",
       "    <tr>\n",
       "      <th>top</th>\n",
       "      <td>36</td>\n",
       "      <td>Private</td>\n",
       "      <td>203488</td>\n",
       "      <td>HS-grad</td>\n",
       "      <td>9</td>\n",
       "      <td>Married-civ-spouse</td>\n",
       "      <td>Prof-specialty</td>\n",
       "      <td>Husband</td>\n",
       "      <td>White</td>\n",
       "      <td>Male</td>\n",
       "      <td>0</td>\n",
       "      <td>0</td>\n",
       "      <td>40</td>\n",
       "      <td>United-States</td>\n",
       "      <td>&lt;=50K</td>\n",
       "    </tr>\n",
       "    <tr>\n",
       "      <th>freq</th>\n",
       "      <td>898</td>\n",
       "      <td>22696</td>\n",
       "      <td>13</td>\n",
       "      <td>10501</td>\n",
       "      <td>10501</td>\n",
       "      <td>14976</td>\n",
       "      <td>4140</td>\n",
       "      <td>13193</td>\n",
       "      <td>27816</td>\n",
       "      <td>21790</td>\n",
       "      <td>29849</td>\n",
       "      <td>31042</td>\n",
       "      <td>15217</td>\n",
       "      <td>29170</td>\n",
       "      <td>24720</td>\n",
       "    </tr>\n",
       "  </tbody>\n",
       "</table>\n",
       "</div>"
      ],
      "text/plain": [
       "          age workclass  fnlwgt education  education_num       marital_status  \\\n",
       "count   32561     30725   32561     32561          32561                32561   \n",
       "unique     73         8   21648        16             16                    7   \n",
       "top        36   Private  203488   HS-grad              9   Married-civ-spouse   \n",
       "freq      898     22696      13     10501          10501                14976   \n",
       "\n",
       "             occupation relationship    race    sex  capital_gain  \\\n",
       "count             30718        32561   32561  32561         32561   \n",
       "unique               14            6       5      2           119   \n",
       "top      Prof-specialty      Husband   White   Male             0   \n",
       "freq               4140        13193   27816  21790         29849   \n",
       "\n",
       "        capital_loss  hours_per_week  native_country  income  \n",
       "count          32561           32561           31978   32561  \n",
       "unique            92              94              41       2  \n",
       "top                0              40   United-States   <=50K  \n",
       "freq           31042           15217           29170   24720  "
      ]
     },
     "execution_count": 14,
     "metadata": {},
     "output_type": "execute_result"
    }
   ],
   "source": [
    "# Quick info about data\n",
    "print('\\nDescription of main dataset :')\n",
    "data.describe()"
   ]
  },
  {
   "cell_type": "code",
   "execution_count": 15,
   "metadata": {},
   "outputs": [
    {
     "name": "stdout",
     "output_type": "stream",
     "text": [
      "\n",
      "Total # of rows and columns : (32561, 15)\n"
     ]
    }
   ],
   "source": [
    "#Number of rows, columns\n",
    "print('\\nTotal # of rows and columns :',data.shape)"
   ]
  },
  {
   "cell_type": "code",
   "execution_count": 16,
   "metadata": {},
   "outputs": [
    {
     "name": "stdout",
     "output_type": "stream",
     "text": [
      "\n",
      "Data type information of main dataset :\n",
      "\n",
      "<class 'pandas.core.frame.DataFrame'>\n",
      "RangeIndex: 32561 entries, 0 to 32560\n",
      "Data columns (total 15 columns):\n",
      "age               32561 non-null object\n",
      "workclass         30725 non-null object\n",
      "fnlwgt            32561 non-null object\n",
      "education         32561 non-null object\n",
      "education_num     32561 non-null object\n",
      "marital_status    32561 non-null object\n",
      "occupation        30718 non-null object\n",
      "relationship      32561 non-null object\n",
      "race              32561 non-null object\n",
      "sex               32561 non-null object\n",
      "capital_gain      32561 non-null object\n",
      "capital_loss      32561 non-null object\n",
      "hours_per_week    32561 non-null object\n",
      "native_country    31978 non-null object\n",
      "income            32561 non-null object\n",
      "dtypes: object(15)\n",
      "memory usage: 3.7+ MB\n"
     ]
    }
   ],
   "source": [
    "#Data types for each column\n",
    "print('\\nData type information of main dataset :\\n')\n",
    "data.info()"
   ]
  },
  {
   "cell_type": "code",
   "execution_count": 17,
   "metadata": {},
   "outputs": [
    {
     "name": "stdout",
     "output_type": "stream",
     "text": [
      "\n",
      "Missing values for each column :\n",
      "\n"
     ]
    },
    {
     "data": {
      "text/plain": [
       "age                  0\n",
       "workclass         1836\n",
       "fnlwgt               0\n",
       "education            0\n",
       "education_num        0\n",
       "marital_status       0\n",
       "occupation        1843\n",
       "relationship         0\n",
       "race                 0\n",
       "sex                  0\n",
       "capital_gain         0\n",
       "capital_loss         0\n",
       "hours_per_week       0\n",
       "native_country     583\n",
       "income               0\n",
       "dtype: int64"
      ]
     },
     "execution_count": 17,
     "metadata": {},
     "output_type": "execute_result"
    }
   ],
   "source": [
    "#Find missing values count in rows for each column\n",
    "print('\\nMissing values for each column :\\n')\n",
    "data.isnull().sum()"
   ]
  },
  {
   "cell_type": "markdown",
   "metadata": {},
   "source": [
    "--------------------------------------------------------------------------------------------------------------------\n",
    "# #4. Data Prep\n",
    "1. Missing data: Then drop rows with NaN values\n",
    "2. Remove column 'education_num' because it's not useful for our purposes\n",
    "3. Change data types for columns: 'age' 'fnlwgt' 'capital_gain' 'capital_loss' and 'hours_per_week' to int64\n",
    "4. Change data type for column: 'income' to 'income' category"
   ]
  },
  {
   "cell_type": "code",
   "execution_count": 18,
   "metadata": {},
   "outputs": [],
   "source": [
    "#Drop rows with na\n",
    "data=data.dropna()"
   ]
  },
  {
   "cell_type": "code",
   "execution_count": 19,
   "metadata": {},
   "outputs": [
    {
     "name": "stdout",
     "output_type": "stream",
     "text": [
      "\n",
      "Update -- Check for missing values after removing missing values :\n",
      "\n"
     ]
    },
    {
     "data": {
      "text/plain": [
       "age               0\n",
       "workclass         0\n",
       "fnlwgt            0\n",
       "education         0\n",
       "education_num     0\n",
       "marital_status    0\n",
       "occupation        0\n",
       "relationship      0\n",
       "race              0\n",
       "sex               0\n",
       "capital_gain      0\n",
       "capital_loss      0\n",
       "hours_per_week    0\n",
       "native_country    0\n",
       "income            0\n",
       "dtype: int64"
      ]
     },
     "execution_count": 19,
     "metadata": {},
     "output_type": "execute_result"
    }
   ],
   "source": [
    "#Check to see for missing values again\n",
    "print('\\nUpdate -- Check for missing values after removing missing values :\\n')\n",
    "data.isnull().sum()"
   ]
  },
  {
   "cell_type": "code",
   "execution_count": 20,
   "metadata": {},
   "outputs": [
    {
     "name": "stdout",
     "output_type": "stream",
     "text": [
      "\n",
      "Updated dataset without education_num column :\n"
     ]
    },
    {
     "data": {
      "text/html": [
       "<div>\n",
       "<style scoped>\n",
       "    .dataframe tbody tr th:only-of-type {\n",
       "        vertical-align: middle;\n",
       "    }\n",
       "\n",
       "    .dataframe tbody tr th {\n",
       "        vertical-align: top;\n",
       "    }\n",
       "\n",
       "    .dataframe thead th {\n",
       "        text-align: right;\n",
       "    }\n",
       "</style>\n",
       "<table border=\"1\" class=\"dataframe\">\n",
       "  <thead>\n",
       "    <tr style=\"text-align: right;\">\n",
       "      <th></th>\n",
       "      <th>age</th>\n",
       "      <th>workclass</th>\n",
       "      <th>fnlwgt</th>\n",
       "      <th>education</th>\n",
       "      <th>marital_status</th>\n",
       "      <th>occupation</th>\n",
       "      <th>relationship</th>\n",
       "      <th>race</th>\n",
       "      <th>sex</th>\n",
       "      <th>capital_gain</th>\n",
       "      <th>capital_loss</th>\n",
       "      <th>hours_per_week</th>\n",
       "      <th>native_country</th>\n",
       "      <th>income</th>\n",
       "    </tr>\n",
       "  </thead>\n",
       "  <tbody>\n",
       "    <tr>\n",
       "      <th>0</th>\n",
       "      <td>39</td>\n",
       "      <td>State-gov</td>\n",
       "      <td>77516</td>\n",
       "      <td>Bachelors</td>\n",
       "      <td>Never-married</td>\n",
       "      <td>Adm-clerical</td>\n",
       "      <td>Not-in-family</td>\n",
       "      <td>White</td>\n",
       "      <td>Male</td>\n",
       "      <td>2174</td>\n",
       "      <td>0</td>\n",
       "      <td>40</td>\n",
       "      <td>United-States</td>\n",
       "      <td>&lt;=50K</td>\n",
       "    </tr>\n",
       "    <tr>\n",
       "      <th>1</th>\n",
       "      <td>50</td>\n",
       "      <td>Self-emp-not-inc</td>\n",
       "      <td>83311</td>\n",
       "      <td>Bachelors</td>\n",
       "      <td>Married-civ-spouse</td>\n",
       "      <td>Exec-managerial</td>\n",
       "      <td>Husband</td>\n",
       "      <td>White</td>\n",
       "      <td>Male</td>\n",
       "      <td>0</td>\n",
       "      <td>0</td>\n",
       "      <td>13</td>\n",
       "      <td>United-States</td>\n",
       "      <td>&lt;=50K</td>\n",
       "    </tr>\n",
       "    <tr>\n",
       "      <th>2</th>\n",
       "      <td>38</td>\n",
       "      <td>Private</td>\n",
       "      <td>215646</td>\n",
       "      <td>HS-grad</td>\n",
       "      <td>Divorced</td>\n",
       "      <td>Handlers-cleaners</td>\n",
       "      <td>Not-in-family</td>\n",
       "      <td>White</td>\n",
       "      <td>Male</td>\n",
       "      <td>0</td>\n",
       "      <td>0</td>\n",
       "      <td>40</td>\n",
       "      <td>United-States</td>\n",
       "      <td>&lt;=50K</td>\n",
       "    </tr>\n",
       "    <tr>\n",
       "      <th>3</th>\n",
       "      <td>53</td>\n",
       "      <td>Private</td>\n",
       "      <td>234721</td>\n",
       "      <td>11th</td>\n",
       "      <td>Married-civ-spouse</td>\n",
       "      <td>Handlers-cleaners</td>\n",
       "      <td>Husband</td>\n",
       "      <td>Black</td>\n",
       "      <td>Male</td>\n",
       "      <td>0</td>\n",
       "      <td>0</td>\n",
       "      <td>40</td>\n",
       "      <td>United-States</td>\n",
       "      <td>&lt;=50K</td>\n",
       "    </tr>\n",
       "    <tr>\n",
       "      <th>4</th>\n",
       "      <td>28</td>\n",
       "      <td>Private</td>\n",
       "      <td>338409</td>\n",
       "      <td>Bachelors</td>\n",
       "      <td>Married-civ-spouse</td>\n",
       "      <td>Prof-specialty</td>\n",
       "      <td>Wife</td>\n",
       "      <td>Black</td>\n",
       "      <td>Female</td>\n",
       "      <td>0</td>\n",
       "      <td>0</td>\n",
       "      <td>40</td>\n",
       "      <td>Cuba</td>\n",
       "      <td>&lt;=50K</td>\n",
       "    </tr>\n",
       "  </tbody>\n",
       "</table>\n",
       "</div>"
      ],
      "text/plain": [
       "  age          workclass  fnlwgt   education       marital_status  \\\n",
       "0  39          State-gov   77516   Bachelors        Never-married   \n",
       "1  50   Self-emp-not-inc   83311   Bachelors   Married-civ-spouse   \n",
       "2  38            Private  215646     HS-grad             Divorced   \n",
       "3  53            Private  234721        11th   Married-civ-spouse   \n",
       "4  28            Private  338409   Bachelors   Married-civ-spouse   \n",
       "\n",
       "           occupation    relationship    race      sex capital_gain  \\\n",
       "0        Adm-clerical   Not-in-family   White     Male         2174   \n",
       "1     Exec-managerial         Husband   White     Male            0   \n",
       "2   Handlers-cleaners   Not-in-family   White     Male            0   \n",
       "3   Handlers-cleaners         Husband   Black     Male            0   \n",
       "4      Prof-specialty            Wife   Black   Female            0   \n",
       "\n",
       "  capital_loss hours_per_week  native_country  income  \n",
       "0            0             40   United-States   <=50K  \n",
       "1            0             13   United-States   <=50K  \n",
       "2            0             40   United-States   <=50K  \n",
       "3            0             40   United-States   <=50K  \n",
       "4            0             40            Cuba   <=50K  "
      ]
     },
     "execution_count": 20,
     "metadata": {},
     "output_type": "execute_result"
    }
   ],
   "source": [
    "#Remove 'education_num'\n",
    "data=data.drop(\"education_num\",axis=1)\n",
    "\n",
    "#Check dataset for updated columns\n",
    "print('\\nUpdated dataset without education_num column :')\n",
    "data.head()"
   ]
  },
  {
   "cell_type": "code",
   "execution_count": 21,
   "metadata": {},
   "outputs": [],
   "source": [
    "#Change dtype for 'age' to 'int64'\n",
    "data['age']=data['age'].astype('int64')\n",
    "\n",
    "#Change dtype for 'fnlwgt' to 'int64'\n",
    "data['fnlwgt']=data['fnlwgt'].astype('int64')\n",
    "\n",
    "#Change dtype for 'capital_gain' to 'int64'\n",
    "data['capital_gain']=data['capital_gain'].astype('int64')\n",
    "\n",
    "#Change dtype for 'capital_loss' to 'int64'\n",
    "data['capital_loss']=data['capital_loss'].astype('int64')\n",
    "\n",
    "#Change dtype for 'hours_per_week' to 'int64'\n",
    "data['hours_per_week']=data['hours_per_week'].astype('int64')"
   ]
  },
  {
   "cell_type": "code",
   "execution_count": 22,
   "metadata": {},
   "outputs": [],
   "source": [
    "#Change dtype for 'income' to 'category'\n",
    "data['income']=data.income.astype(\"category\").cat.codes"
   ]
  },
  {
   "cell_type": "code",
   "execution_count": 23,
   "metadata": {},
   "outputs": [
    {
     "name": "stdout",
     "output_type": "stream",
     "text": [
      "\n",
      "Updated data type information of main dataset :\n",
      "\n",
      "<class 'pandas.core.frame.DataFrame'>\n",
      "Int64Index: 30162 entries, 0 to 32560\n",
      "Data columns (total 14 columns):\n",
      "age               30162 non-null int64\n",
      "workclass         30162 non-null object\n",
      "fnlwgt            30162 non-null int64\n",
      "education         30162 non-null object\n",
      "marital_status    30162 non-null object\n",
      "occupation        30162 non-null object\n",
      "relationship      30162 non-null object\n",
      "race              30162 non-null object\n",
      "sex               30162 non-null object\n",
      "capital_gain      30162 non-null int64\n",
      "capital_loss      30162 non-null int64\n",
      "hours_per_week    30162 non-null int64\n",
      "native_country    30162 non-null object\n",
      "income            30162 non-null int8\n",
      "dtypes: int64(5), int8(1), object(8)\n",
      "memory usage: 3.3+ MB\n"
     ]
    }
   ],
   "source": [
    "#Check to make sure changes to data types for each column\n",
    "print('\\nUpdated data type information of main dataset :\\n')\n",
    "data.info()"
   ]
  },
  {
   "cell_type": "code",
   "execution_count": 24,
   "metadata": {},
   "outputs": [
    {
     "data": {
      "text/plain": [
       "age               0\n",
       "workclass         0\n",
       "fnlwgt            0\n",
       "education         0\n",
       "marital_status    0\n",
       "occupation        0\n",
       "relationship      0\n",
       "race              0\n",
       "sex               0\n",
       "capital_gain      0\n",
       "capital_loss      0\n",
       "hours_per_week    0\n",
       "native_country    0\n",
       "income            0\n",
       "dtype: int64"
      ]
     },
     "execution_count": 24,
     "metadata": {},
     "output_type": "execute_result"
    }
   ],
   "source": [
    "# Last check for missing values\n",
    "data.dropna(inplace=True)\n",
    "data.isnull().sum()"
   ]
  },
  {
   "cell_type": "code",
   "execution_count": 25,
   "metadata": {},
   "outputs": [
    {
     "name": "stdout",
     "output_type": "stream",
     "text": [
      "\n",
      "Updated number of rows and columns : (30162, 14)\n"
     ]
    }
   ],
   "source": [
    "#Check udpated number of rows and columns\n",
    "print('\\nUpdated number of rows and columns :', data.shape)"
   ]
  },
  {
   "cell_type": "markdown",
   "metadata": {},
   "source": [
    "-------------------------------------------------------------------------------------------------------------------\n",
    "# #5: Encode data and split for training and testing\n",
    "\n",
    "1. Create a new variable for all features data (without income column)\n",
    "2. Create a new variable for only income data\n",
    "3. Dummies encoding for all features\n",
    "4. Split for training and testing"
   ]
  },
  {
   "cell_type": "code",
   "execution_count": 26,
   "metadata": {},
   "outputs": [],
   "source": [
    "#Features variable = data without income column\n",
    "data_feature=data.drop(\"income\",axis=1)"
   ]
  },
  {
   "cell_type": "code",
   "execution_count": 27,
   "metadata": {},
   "outputs": [],
   "source": [
    "#Income variable = only income data column\n",
    "income=data.income"
   ]
  },
  {
   "cell_type": "code",
   "execution_count": 28,
   "metadata": {},
   "outputs": [],
   "source": [
    "#Encode features to dummy variables\n",
    "dataenc=pd.get_dummies(data_feature)"
   ]
  },
  {
   "cell_type": "code",
   "execution_count": 29,
   "metadata": {},
   "outputs": [
    {
     "data": {
      "text/plain": [
       "age                                int64\n",
       "fnlwgt                             int64\n",
       "capital_gain                       int64\n",
       "capital_loss                       int64\n",
       "hours_per_week                     int64\n",
       "                                   ...  \n",
       "native_country_ Thailand           uint8\n",
       "native_country_ Trinadad&Tobago    uint8\n",
       "native_country_ United-States      uint8\n",
       "native_country_ Vietnam            uint8\n",
       "native_country_ Yugoslavia         uint8\n",
       "Length: 103, dtype: object"
      ]
     },
     "execution_count": 29,
     "metadata": {},
     "output_type": "execute_result"
    }
   ],
   "source": [
    "dataenc.dtypes"
   ]
  },
  {
   "cell_type": "code",
   "execution_count": 31,
   "metadata": {},
   "outputs": [
    {
     "data": {
      "text/plain": [
       "dtype('int8')"
      ]
     },
     "execution_count": 31,
     "metadata": {},
     "output_type": "execute_result"
    }
   ],
   "source": [
    "income.dtypes"
   ]
  },
  {
   "cell_type": "code",
   "execution_count": 37,
   "metadata": {},
   "outputs": [
    {
     "data": {
      "text/plain": [
       "0        0\n",
       "1        0\n",
       "2        0\n",
       "3        0\n",
       "4        0\n",
       "        ..\n",
       "32556    0\n",
       "32557    1\n",
       "32558    0\n",
       "32559    0\n",
       "32560    1\n",
       "Name: income, Length: 30162, dtype: int8"
      ]
     },
     "execution_count": 37,
     "metadata": {},
     "output_type": "execute_result"
    }
   ],
   "source": [
    "income"
   ]
  },
  {
   "cell_type": "code",
   "execution_count": 32,
   "metadata": {},
   "outputs": [
    {
     "name": "stdout",
     "output_type": "stream",
     "text": [
      "\n",
      "Number of rows and columns with encoded dummies :  (30162, 103)\n",
      "\n",
      "Updated dataset -- dataenc :\n"
     ]
    },
    {
     "data": {
      "text/html": [
       "<div>\n",
       "<style scoped>\n",
       "    .dataframe tbody tr th:only-of-type {\n",
       "        vertical-align: middle;\n",
       "    }\n",
       "\n",
       "    .dataframe tbody tr th {\n",
       "        vertical-align: top;\n",
       "    }\n",
       "\n",
       "    .dataframe thead th {\n",
       "        text-align: right;\n",
       "    }\n",
       "</style>\n",
       "<table border=\"1\" class=\"dataframe\">\n",
       "  <thead>\n",
       "    <tr style=\"text-align: right;\">\n",
       "      <th></th>\n",
       "      <th>age</th>\n",
       "      <th>fnlwgt</th>\n",
       "      <th>capital_gain</th>\n",
       "      <th>capital_loss</th>\n",
       "      <th>hours_per_week</th>\n",
       "      <th>workclass_ Federal-gov</th>\n",
       "      <th>workclass_ Local-gov</th>\n",
       "      <th>workclass_ Private</th>\n",
       "      <th>workclass_ Self-emp-inc</th>\n",
       "      <th>workclass_ Self-emp-not-inc</th>\n",
       "      <th>...</th>\n",
       "      <th>native_country_ Portugal</th>\n",
       "      <th>native_country_ Puerto-Rico</th>\n",
       "      <th>native_country_ Scotland</th>\n",
       "      <th>native_country_ South</th>\n",
       "      <th>native_country_ Taiwan</th>\n",
       "      <th>native_country_ Thailand</th>\n",
       "      <th>native_country_ Trinadad&amp;Tobago</th>\n",
       "      <th>native_country_ United-States</th>\n",
       "      <th>native_country_ Vietnam</th>\n",
       "      <th>native_country_ Yugoslavia</th>\n",
       "    </tr>\n",
       "  </thead>\n",
       "  <tbody>\n",
       "    <tr>\n",
       "      <th>0</th>\n",
       "      <td>39</td>\n",
       "      <td>77516</td>\n",
       "      <td>2174</td>\n",
       "      <td>0</td>\n",
       "      <td>40</td>\n",
       "      <td>0</td>\n",
       "      <td>0</td>\n",
       "      <td>0</td>\n",
       "      <td>0</td>\n",
       "      <td>0</td>\n",
       "      <td>...</td>\n",
       "      <td>0</td>\n",
       "      <td>0</td>\n",
       "      <td>0</td>\n",
       "      <td>0</td>\n",
       "      <td>0</td>\n",
       "      <td>0</td>\n",
       "      <td>0</td>\n",
       "      <td>1</td>\n",
       "      <td>0</td>\n",
       "      <td>0</td>\n",
       "    </tr>\n",
       "    <tr>\n",
       "      <th>1</th>\n",
       "      <td>50</td>\n",
       "      <td>83311</td>\n",
       "      <td>0</td>\n",
       "      <td>0</td>\n",
       "      <td>13</td>\n",
       "      <td>0</td>\n",
       "      <td>0</td>\n",
       "      <td>0</td>\n",
       "      <td>0</td>\n",
       "      <td>1</td>\n",
       "      <td>...</td>\n",
       "      <td>0</td>\n",
       "      <td>0</td>\n",
       "      <td>0</td>\n",
       "      <td>0</td>\n",
       "      <td>0</td>\n",
       "      <td>0</td>\n",
       "      <td>0</td>\n",
       "      <td>1</td>\n",
       "      <td>0</td>\n",
       "      <td>0</td>\n",
       "    </tr>\n",
       "    <tr>\n",
       "      <th>2</th>\n",
       "      <td>38</td>\n",
       "      <td>215646</td>\n",
       "      <td>0</td>\n",
       "      <td>0</td>\n",
       "      <td>40</td>\n",
       "      <td>0</td>\n",
       "      <td>0</td>\n",
       "      <td>1</td>\n",
       "      <td>0</td>\n",
       "      <td>0</td>\n",
       "      <td>...</td>\n",
       "      <td>0</td>\n",
       "      <td>0</td>\n",
       "      <td>0</td>\n",
       "      <td>0</td>\n",
       "      <td>0</td>\n",
       "      <td>0</td>\n",
       "      <td>0</td>\n",
       "      <td>1</td>\n",
       "      <td>0</td>\n",
       "      <td>0</td>\n",
       "    </tr>\n",
       "    <tr>\n",
       "      <th>3</th>\n",
       "      <td>53</td>\n",
       "      <td>234721</td>\n",
       "      <td>0</td>\n",
       "      <td>0</td>\n",
       "      <td>40</td>\n",
       "      <td>0</td>\n",
       "      <td>0</td>\n",
       "      <td>1</td>\n",
       "      <td>0</td>\n",
       "      <td>0</td>\n",
       "      <td>...</td>\n",
       "      <td>0</td>\n",
       "      <td>0</td>\n",
       "      <td>0</td>\n",
       "      <td>0</td>\n",
       "      <td>0</td>\n",
       "      <td>0</td>\n",
       "      <td>0</td>\n",
       "      <td>1</td>\n",
       "      <td>0</td>\n",
       "      <td>0</td>\n",
       "    </tr>\n",
       "    <tr>\n",
       "      <th>4</th>\n",
       "      <td>28</td>\n",
       "      <td>338409</td>\n",
       "      <td>0</td>\n",
       "      <td>0</td>\n",
       "      <td>40</td>\n",
       "      <td>0</td>\n",
       "      <td>0</td>\n",
       "      <td>1</td>\n",
       "      <td>0</td>\n",
       "      <td>0</td>\n",
       "      <td>...</td>\n",
       "      <td>0</td>\n",
       "      <td>0</td>\n",
       "      <td>0</td>\n",
       "      <td>0</td>\n",
       "      <td>0</td>\n",
       "      <td>0</td>\n",
       "      <td>0</td>\n",
       "      <td>0</td>\n",
       "      <td>0</td>\n",
       "      <td>0</td>\n",
       "    </tr>\n",
       "  </tbody>\n",
       "</table>\n",
       "<p>5 rows × 103 columns</p>\n",
       "</div>"
      ],
      "text/plain": [
       "   age  fnlwgt  capital_gain  capital_loss  hours_per_week  \\\n",
       "0   39   77516          2174             0              40   \n",
       "1   50   83311             0             0              13   \n",
       "2   38  215646             0             0              40   \n",
       "3   53  234721             0             0              40   \n",
       "4   28  338409             0             0              40   \n",
       "\n",
       "   workclass_ Federal-gov  workclass_ Local-gov  workclass_ Private  \\\n",
       "0                       0                     0                   0   \n",
       "1                       0                     0                   0   \n",
       "2                       0                     0                   1   \n",
       "3                       0                     0                   1   \n",
       "4                       0                     0                   1   \n",
       "\n",
       "   workclass_ Self-emp-inc  workclass_ Self-emp-not-inc  ...  \\\n",
       "0                        0                            0  ...   \n",
       "1                        0                            1  ...   \n",
       "2                        0                            0  ...   \n",
       "3                        0                            0  ...   \n",
       "4                        0                            0  ...   \n",
       "\n",
       "   native_country_ Portugal  native_country_ Puerto-Rico  \\\n",
       "0                         0                            0   \n",
       "1                         0                            0   \n",
       "2                         0                            0   \n",
       "3                         0                            0   \n",
       "4                         0                            0   \n",
       "\n",
       "   native_country_ Scotland  native_country_ South  native_country_ Taiwan  \\\n",
       "0                         0                      0                       0   \n",
       "1                         0                      0                       0   \n",
       "2                         0                      0                       0   \n",
       "3                         0                      0                       0   \n",
       "4                         0                      0                       0   \n",
       "\n",
       "   native_country_ Thailand  native_country_ Trinadad&Tobago  \\\n",
       "0                         0                                0   \n",
       "1                         0                                0   \n",
       "2                         0                                0   \n",
       "3                         0                                0   \n",
       "4                         0                                0   \n",
       "\n",
       "   native_country_ United-States  native_country_ Vietnam  \\\n",
       "0                              1                        0   \n",
       "1                              1                        0   \n",
       "2                              1                        0   \n",
       "3                              1                        0   \n",
       "4                              0                        0   \n",
       "\n",
       "   native_country_ Yugoslavia  \n",
       "0                           0  \n",
       "1                           0  \n",
       "2                           0  \n",
       "3                           0  \n",
       "4                           0  \n",
       "\n",
       "[5 rows x 103 columns]"
      ]
     },
     "execution_count": 32,
     "metadata": {},
     "output_type": "execute_result"
    }
   ],
   "source": [
    "print('\\nNumber of rows and columns with encoded dummies : ', dataenc.shape)\n",
    "print('\\nUpdated dataset -- dataenc :')\n",
    "dataenc.head()"
   ]
  },
  {
   "cell_type": "code",
   "execution_count": 33,
   "metadata": {},
   "outputs": [],
   "source": [
    "#Split for train and testing\n",
    "x_train,x_test,y_train,y_test=train_test_split(dataenc, income, test_size=0.3)"
   ]
  },
  {
   "cell_type": "code",
   "execution_count": 34,
   "metadata": {},
   "outputs": [
    {
     "name": "stdout",
     "output_type": "stream",
     "text": [
      "Count for x (train/test):\n",
      "\t (x_train) + (x_test) = 30162\n",
      "\t       21113 + 9049 = 30162 \n",
      "\n",
      "Count for y (train/test):\n",
      "\t (y_train) + (y_test) = 30162\n",
      "\t       21113 + 9049 = 30162\n"
     ]
    }
   ],
   "source": [
    "#Check row count for (X train + X test) & (Y train + Y test), both should equal 30162\n",
    "print(\n",
    "    \"Count for x (train/test):\\n\\t\",\n",
    "    \"(x_train) + (x_test) = 30162\\n\\t      \",\n",
    "    len(x_train), \"+\", len(x_test),\"=\",(len(y_train)+len(x_test)), #X_train + X_test = check for 30162\n",
    "    \"\\n\\nCount for y (train/test):\\n\\t\",\n",
    "    \"(y_train) + (y_test) = 30162\\n\\t      \",\n",
    "    len(y_train), \"+\", len(y_test),\"=\",(len(y_train)+len(y_test)) #Y_train + Y_test = check for 30162\n",
    "     )"
   ]
  },
  {
   "cell_type": "code",
   "execution_count": null,
   "metadata": {},
   "outputs": [],
   "source": []
  },
  {
   "cell_type": "markdown",
   "metadata": {},
   "source": [
    "-------------------------------------------------------------------------------------------------------------------\n",
    "\n",
    "-------------------------------------------------------------------------------------------------------------------\n",
    "# #6: Voting Classifer\n",
    "\n",
    "## Binary classifiers used:\n",
    "1. Logistic Regression Classifier\n",
    "2. Decision Tree Classifier\n",
    "3. Support Vector Classifier"
   ]
  },
  {
   "cell_type": "markdown",
   "metadata": {},
   "source": [
    "## Two versions of an ensemble classifiers: \n",
    "\n",
    "### Voting aggregates the predections of each classifiers ad predicts the class that gets the most votes. \n",
    "### #6.1. Soft voting\n",
    "Here the predection is made by averaging the probabilities calculated by each classifier in the ensemble. It can only be applied to the classifers which use probability for outcome. \n",
    "\n",
    "### #6.2. Hard voting\n",
    "A model is selected from the ensemble to make the final predection by majority vote for accuracy. Suppose we have three classifiers that give predection (with two classes A and B) as (A ,A, B) in this case our ensemble classifier will predict class A as majority of the classifiers have predicted the same. \n",
    "\n",
    "### #6.3 Area under the curve as performance metric\n",
    "1. Compare hard and soft voting classifer\n",
    "\n",
    "### #6.4. Comparison results\n",
    "1. Which one is better and why"
   ]
  },
  {
   "cell_type": "markdown",
   "metadata": {},
   "source": [
    "-------------------------------------------------------------------------------------------------------------------\n",
    "\n",
    "# #6.1.  Soft Voting  (setup and fit with classifiers, prediction-probability)"
   ]
  },
  {
   "cell_type": "code",
   "execution_count": 35,
   "metadata": {},
   "outputs": [],
   "source": [
    "#Logistic Regression Classifier\n",
    "LR=LogisticRegression(random_state=13)\n",
    "\n",
    "#Decision Tree Classifier\n",
    "DT=DecisionTreeClassifier(random_state=13)\n",
    "\n",
    "#Support Vector Classifier\n",
    "from sklearn.svm import SVC #To avoid errors\n",
    "SVC=SVC(random_state=13, probability=True)"
   ]
  },
  {
   "cell_type": "code",
   "execution_count": 36,
   "metadata": {},
   "outputs": [
    {
     "ename": "KeyboardInterrupt",
     "evalue": "",
     "output_type": "error",
     "traceback": [
      "\u001b[0;31m---------------------------------------------------------------------------\u001b[0m",
      "\u001b[0;31mKeyboardInterrupt\u001b[0m                         Traceback (most recent call last)",
      "\u001b[0;32m<ipython-input-36-75937de84d48>\u001b[0m in \u001b[0;36m<module>\u001b[0;34m\u001b[0m\n\u001b[1;32m      4\u001b[0m \u001b[0;34m\u001b[0m\u001b[0m\n\u001b[1;32m      5\u001b[0m \u001b[0;31m#Fit for x/y train\u001b[0m\u001b[0;34m\u001b[0m\u001b[0;34m\u001b[0m\u001b[0;34m\u001b[0m\u001b[0m\n\u001b[0;32m----> 6\u001b[0;31m \u001b[0mvoting_clf_soft\u001b[0m\u001b[0;34m.\u001b[0m\u001b[0mfit\u001b[0m\u001b[0;34m(\u001b[0m\u001b[0mx_train\u001b[0m\u001b[0;34m,\u001b[0m\u001b[0my_train\u001b[0m\u001b[0;34m)\u001b[0m\u001b[0;34m\u001b[0m\u001b[0;34m\u001b[0m\u001b[0m\n\u001b[0m",
      "\u001b[0;32m~/opt/anaconda3/lib/python3.7/site-packages/sklearn/ensemble/voting.py\u001b[0m in \u001b[0;36mfit\u001b[0;34m(self, X, y, sample_weight)\u001b[0m\n\u001b[1;32m    277\u001b[0m         \u001b[0mtransformed_y\u001b[0m \u001b[0;34m=\u001b[0m \u001b[0mself\u001b[0m\u001b[0;34m.\u001b[0m\u001b[0mle_\u001b[0m\u001b[0;34m.\u001b[0m\u001b[0mtransform\u001b[0m\u001b[0;34m(\u001b[0m\u001b[0my\u001b[0m\u001b[0;34m)\u001b[0m\u001b[0;34m\u001b[0m\u001b[0;34m\u001b[0m\u001b[0m\n\u001b[1;32m    278\u001b[0m \u001b[0;34m\u001b[0m\u001b[0m\n\u001b[0;32m--> 279\u001b[0;31m         \u001b[0;32mreturn\u001b[0m \u001b[0msuper\u001b[0m\u001b[0;34m(\u001b[0m\u001b[0;34m)\u001b[0m\u001b[0;34m.\u001b[0m\u001b[0mfit\u001b[0m\u001b[0;34m(\u001b[0m\u001b[0mX\u001b[0m\u001b[0;34m,\u001b[0m \u001b[0mtransformed_y\u001b[0m\u001b[0;34m,\u001b[0m \u001b[0msample_weight\u001b[0m\u001b[0;34m)\u001b[0m\u001b[0;34m\u001b[0m\u001b[0;34m\u001b[0m\u001b[0m\n\u001b[0m\u001b[1;32m    280\u001b[0m \u001b[0;34m\u001b[0m\u001b[0m\n\u001b[1;32m    281\u001b[0m     \u001b[0;32mdef\u001b[0m \u001b[0mpredict\u001b[0m\u001b[0;34m(\u001b[0m\u001b[0mself\u001b[0m\u001b[0;34m,\u001b[0m \u001b[0mX\u001b[0m\u001b[0;34m)\u001b[0m\u001b[0;34m:\u001b[0m\u001b[0;34m\u001b[0m\u001b[0;34m\u001b[0m\u001b[0m\n",
      "\u001b[0;32m~/opt/anaconda3/lib/python3.7/site-packages/sklearn/ensemble/voting.py\u001b[0m in \u001b[0;36mfit\u001b[0;34m(self, X, y, sample_weight)\u001b[0m\n\u001b[1;32m     99\u001b[0m                 delayed(_parallel_fit_estimator)(clone(clf), X, y,\n\u001b[1;32m    100\u001b[0m                                                  sample_weight=sample_weight)\n\u001b[0;32m--> 101\u001b[0;31m                 \u001b[0;32mfor\u001b[0m \u001b[0mclf\u001b[0m \u001b[0;32min\u001b[0m \u001b[0mclfs\u001b[0m \u001b[0;32mif\u001b[0m \u001b[0mclf\u001b[0m \u001b[0;32mnot\u001b[0m \u001b[0;32min\u001b[0m \u001b[0;34m(\u001b[0m\u001b[0;32mNone\u001b[0m\u001b[0;34m,\u001b[0m \u001b[0;34m'drop'\u001b[0m\u001b[0;34m)\u001b[0m\u001b[0;34m\u001b[0m\u001b[0;34m\u001b[0m\u001b[0m\n\u001b[0m\u001b[1;32m    102\u001b[0m             )\n\u001b[1;32m    103\u001b[0m \u001b[0;34m\u001b[0m\u001b[0m\n",
      "\u001b[0;32m~/opt/anaconda3/lib/python3.7/site-packages/joblib/parallel.py\u001b[0m in \u001b[0;36m__call__\u001b[0;34m(self, iterable)\u001b[0m\n\u001b[1;32m    932\u001b[0m \u001b[0;34m\u001b[0m\u001b[0m\n\u001b[1;32m    933\u001b[0m             \u001b[0;32mwith\u001b[0m \u001b[0mself\u001b[0m\u001b[0;34m.\u001b[0m\u001b[0m_backend\u001b[0m\u001b[0;34m.\u001b[0m\u001b[0mretrieval_context\u001b[0m\u001b[0;34m(\u001b[0m\u001b[0;34m)\u001b[0m\u001b[0;34m:\u001b[0m\u001b[0;34m\u001b[0m\u001b[0;34m\u001b[0m\u001b[0m\n\u001b[0;32m--> 934\u001b[0;31m                 \u001b[0mself\u001b[0m\u001b[0;34m.\u001b[0m\u001b[0mretrieve\u001b[0m\u001b[0;34m(\u001b[0m\u001b[0;34m)\u001b[0m\u001b[0;34m\u001b[0m\u001b[0;34m\u001b[0m\u001b[0m\n\u001b[0m\u001b[1;32m    935\u001b[0m             \u001b[0;31m# Make sure that we get a last message telling us we are done\u001b[0m\u001b[0;34m\u001b[0m\u001b[0;34m\u001b[0m\u001b[0;34m\u001b[0m\u001b[0m\n\u001b[1;32m    936\u001b[0m             \u001b[0melapsed_time\u001b[0m \u001b[0;34m=\u001b[0m \u001b[0mtime\u001b[0m\u001b[0;34m.\u001b[0m\u001b[0mtime\u001b[0m\u001b[0;34m(\u001b[0m\u001b[0;34m)\u001b[0m \u001b[0;34m-\u001b[0m \u001b[0mself\u001b[0m\u001b[0;34m.\u001b[0m\u001b[0m_start_time\u001b[0m\u001b[0;34m\u001b[0m\u001b[0;34m\u001b[0m\u001b[0m\n",
      "\u001b[0;32m~/opt/anaconda3/lib/python3.7/site-packages/joblib/parallel.py\u001b[0m in \u001b[0;36mretrieve\u001b[0;34m(self)\u001b[0m\n\u001b[1;32m    831\u001b[0m             \u001b[0;32mtry\u001b[0m\u001b[0;34m:\u001b[0m\u001b[0;34m\u001b[0m\u001b[0;34m\u001b[0m\u001b[0m\n\u001b[1;32m    832\u001b[0m                 \u001b[0;32mif\u001b[0m \u001b[0mgetattr\u001b[0m\u001b[0;34m(\u001b[0m\u001b[0mself\u001b[0m\u001b[0;34m.\u001b[0m\u001b[0m_backend\u001b[0m\u001b[0;34m,\u001b[0m \u001b[0;34m'supports_timeout'\u001b[0m\u001b[0;34m,\u001b[0m \u001b[0;32mFalse\u001b[0m\u001b[0;34m)\u001b[0m\u001b[0;34m:\u001b[0m\u001b[0;34m\u001b[0m\u001b[0;34m\u001b[0m\u001b[0m\n\u001b[0;32m--> 833\u001b[0;31m                     \u001b[0mself\u001b[0m\u001b[0;34m.\u001b[0m\u001b[0m_output\u001b[0m\u001b[0;34m.\u001b[0m\u001b[0mextend\u001b[0m\u001b[0;34m(\u001b[0m\u001b[0mjob\u001b[0m\u001b[0;34m.\u001b[0m\u001b[0mget\u001b[0m\u001b[0;34m(\u001b[0m\u001b[0mtimeout\u001b[0m\u001b[0;34m=\u001b[0m\u001b[0mself\u001b[0m\u001b[0;34m.\u001b[0m\u001b[0mtimeout\u001b[0m\u001b[0;34m)\u001b[0m\u001b[0;34m)\u001b[0m\u001b[0;34m\u001b[0m\u001b[0;34m\u001b[0m\u001b[0m\n\u001b[0m\u001b[1;32m    834\u001b[0m                 \u001b[0;32melse\u001b[0m\u001b[0;34m:\u001b[0m\u001b[0;34m\u001b[0m\u001b[0;34m\u001b[0m\u001b[0m\n\u001b[1;32m    835\u001b[0m                     \u001b[0mself\u001b[0m\u001b[0;34m.\u001b[0m\u001b[0m_output\u001b[0m\u001b[0;34m.\u001b[0m\u001b[0mextend\u001b[0m\u001b[0;34m(\u001b[0m\u001b[0mjob\u001b[0m\u001b[0;34m.\u001b[0m\u001b[0mget\u001b[0m\u001b[0;34m(\u001b[0m\u001b[0;34m)\u001b[0m\u001b[0;34m)\u001b[0m\u001b[0;34m\u001b[0m\u001b[0;34m\u001b[0m\u001b[0m\n",
      "\u001b[0;32m~/opt/anaconda3/lib/python3.7/site-packages/joblib/_parallel_backends.py\u001b[0m in \u001b[0;36mwrap_future_result\u001b[0;34m(future, timeout)\u001b[0m\n\u001b[1;32m    519\u001b[0m         AsyncResults.get from multiprocessing.\"\"\"\n\u001b[1;32m    520\u001b[0m         \u001b[0;32mtry\u001b[0m\u001b[0;34m:\u001b[0m\u001b[0;34m\u001b[0m\u001b[0;34m\u001b[0m\u001b[0m\n\u001b[0;32m--> 521\u001b[0;31m             \u001b[0;32mreturn\u001b[0m \u001b[0mfuture\u001b[0m\u001b[0;34m.\u001b[0m\u001b[0mresult\u001b[0m\u001b[0;34m(\u001b[0m\u001b[0mtimeout\u001b[0m\u001b[0;34m=\u001b[0m\u001b[0mtimeout\u001b[0m\u001b[0;34m)\u001b[0m\u001b[0;34m\u001b[0m\u001b[0;34m\u001b[0m\u001b[0m\n\u001b[0m\u001b[1;32m    522\u001b[0m         \u001b[0;32mexcept\u001b[0m \u001b[0mLokyTimeoutError\u001b[0m\u001b[0;34m:\u001b[0m\u001b[0;34m\u001b[0m\u001b[0;34m\u001b[0m\u001b[0m\n\u001b[1;32m    523\u001b[0m             \u001b[0;32mraise\u001b[0m \u001b[0mTimeoutError\u001b[0m\u001b[0;34m(\u001b[0m\u001b[0;34m)\u001b[0m\u001b[0;34m\u001b[0m\u001b[0;34m\u001b[0m\u001b[0m\n",
      "\u001b[0;32m~/opt/anaconda3/lib/python3.7/concurrent/futures/_base.py\u001b[0m in \u001b[0;36mresult\u001b[0;34m(self, timeout)\u001b[0m\n\u001b[1;32m    428\u001b[0m                 \u001b[0;32mreturn\u001b[0m \u001b[0mself\u001b[0m\u001b[0;34m.\u001b[0m\u001b[0m__get_result\u001b[0m\u001b[0;34m(\u001b[0m\u001b[0;34m)\u001b[0m\u001b[0;34m\u001b[0m\u001b[0;34m\u001b[0m\u001b[0m\n\u001b[1;32m    429\u001b[0m \u001b[0;34m\u001b[0m\u001b[0m\n\u001b[0;32m--> 430\u001b[0;31m             \u001b[0mself\u001b[0m\u001b[0;34m.\u001b[0m\u001b[0m_condition\u001b[0m\u001b[0;34m.\u001b[0m\u001b[0mwait\u001b[0m\u001b[0;34m(\u001b[0m\u001b[0mtimeout\u001b[0m\u001b[0;34m)\u001b[0m\u001b[0;34m\u001b[0m\u001b[0;34m\u001b[0m\u001b[0m\n\u001b[0m\u001b[1;32m    431\u001b[0m \u001b[0;34m\u001b[0m\u001b[0m\n\u001b[1;32m    432\u001b[0m             \u001b[0;32mif\u001b[0m \u001b[0mself\u001b[0m\u001b[0;34m.\u001b[0m\u001b[0m_state\u001b[0m \u001b[0;32min\u001b[0m \u001b[0;34m[\u001b[0m\u001b[0mCANCELLED\u001b[0m\u001b[0;34m,\u001b[0m \u001b[0mCANCELLED_AND_NOTIFIED\u001b[0m\u001b[0;34m]\u001b[0m\u001b[0;34m:\u001b[0m\u001b[0;34m\u001b[0m\u001b[0;34m\u001b[0m\u001b[0m\n",
      "\u001b[0;32m~/opt/anaconda3/lib/python3.7/threading.py\u001b[0m in \u001b[0;36mwait\u001b[0;34m(self, timeout)\u001b[0m\n\u001b[1;32m    294\u001b[0m         \u001b[0;32mtry\u001b[0m\u001b[0;34m:\u001b[0m    \u001b[0;31m# restore state no matter what (e.g., KeyboardInterrupt)\u001b[0m\u001b[0;34m\u001b[0m\u001b[0;34m\u001b[0m\u001b[0m\n\u001b[1;32m    295\u001b[0m             \u001b[0;32mif\u001b[0m \u001b[0mtimeout\u001b[0m \u001b[0;32mis\u001b[0m \u001b[0;32mNone\u001b[0m\u001b[0;34m:\u001b[0m\u001b[0;34m\u001b[0m\u001b[0;34m\u001b[0m\u001b[0m\n\u001b[0;32m--> 296\u001b[0;31m                 \u001b[0mwaiter\u001b[0m\u001b[0;34m.\u001b[0m\u001b[0macquire\u001b[0m\u001b[0;34m(\u001b[0m\u001b[0;34m)\u001b[0m\u001b[0;34m\u001b[0m\u001b[0;34m\u001b[0m\u001b[0m\n\u001b[0m\u001b[1;32m    297\u001b[0m                 \u001b[0mgotit\u001b[0m \u001b[0;34m=\u001b[0m \u001b[0;32mTrue\u001b[0m\u001b[0;34m\u001b[0m\u001b[0;34m\u001b[0m\u001b[0m\n\u001b[1;32m    298\u001b[0m             \u001b[0;32melse\u001b[0m\u001b[0;34m:\u001b[0m\u001b[0;34m\u001b[0m\u001b[0;34m\u001b[0m\u001b[0m\n",
      "\u001b[0;31mKeyboardInterrupt\u001b[0m: "
     ]
    }
   ],
   "source": [
    "#Voting classifier using soft voting\n",
    "#Run LR, DT, SVC binary classifers\n",
    "voting_clf_soft=VotingClassifier(estimators=[('lr',LR),('dt',DT),('svc',SVC)],voting='soft',n_jobs=-1)\n",
    "\n",
    "#Fit for x/y train\n",
    "voting_clf_soft.fit(x_train,y_train)"
   ]
  },
  {
   "cell_type": "code",
   "execution_count": null,
   "metadata": {},
   "outputs": [],
   "source": [
    "#Probability/predictions for soft voting for x_test\n",
    "probs_soft=voting_clf_soft.predict_proba(x_test)"
   ]
  },
  {
   "cell_type": "code",
   "execution_count": null,
   "metadata": {},
   "outputs": [],
   "source": [
    "from sklearn.model_selection import cross_validate"
   ]
  },
  {
   "cell_type": "code",
   "execution_count": null,
   "metadata": {},
   "outputs": [],
   "source": [
    "score=cross_validate(voting_clf_soft,x_train,y_train)"
   ]
  },
  {
   "cell_type": "markdown",
   "metadata": {},
   "source": [
    "-------------------------------------------------------------------------------------------------------------------\n",
    "\n",
    "# #6.2.  Hard Voting  (setup and fit with classifiers, prediction-probability)"
   ]
  },
  {
   "cell_type": "code",
   "execution_count": null,
   "metadata": {},
   "outputs": [],
   "source": [
    "#Logistic Regression Classifier\n",
    "LR=LogisticRegression(random_state=13)\n",
    "\n",
    "#Decision Tree Classifier\n",
    "DT=DecisionTreeClassifier(random_state=13)\n",
    "\n",
    "#Support Vector Classifier  -- No need to define probability for hard voting\n",
    "from sklearn.svm import SVC #To avoid errors\n",
    "SVC=SVC(random_state=13)"
   ]
  },
  {
   "cell_type": "code",
   "execution_count": null,
   "metadata": {},
   "outputs": [],
   "source": [
    "#Voting classifier using hard voting\n",
    "#Run LR, DT, SVC binary classifers\n",
    "voting_clf_hard=VotingClassifier(estimators=[('lr',LR),('dt',DT),('svc',SVC)],voting='hard',n_jobs=-1)\n",
    "\n",
    "#Fit for x/y train\n",
    "voting_clf_hard.fit(x_train,y_train)"
   ]
  },
  {
   "cell_type": "code",
   "execution_count": null,
   "metadata": {},
   "outputs": [],
   "source": [
    "#Probability/predictions for hard voting for x_test\n",
    "probs_hard=voting_clf_hard.predict(x_test)"
   ]
  },
  {
   "cell_type": "markdown",
   "metadata": {},
   "source": [
    "-------------------------------------------------------------------------------------------------------------------\n",
    "\n",
    "# #6.3.  Area under the curve performance metric"
   ]
  },
  {
   "cell_type": "code",
   "execution_count": null,
   "metadata": {},
   "outputs": [],
   "source": [
    "#Probability predictions for hard/soft voting classifiers\n",
    "pred_soft=probs_soft[...,1]\n",
    "pred_hard=probs_hard\n",
    "\n",
    "#Area under the curve scores for soft voting classifier\n",
    "auc_soft=roc_auc_score(y_test,pred_soft)\n",
    "print(\"AUC of Soft Voting: %.3f\" % auc_soft)\n",
    "\n",
    "#Area under the curve scores for hard voting classifier\n",
    "auc_hard=roc_auc_score(y_test,pred_hard)\n",
    "print(\"AUC of Hard Voting: %.3f\" % auc_hard)\n",
    "\n",
    "#Visualize the scores with ROC curve for soft and hard voting\n",
    "fpr_s, tpr_s, thresholds_s = roc_curve(y_test, pred_soft)\n",
    "fpr_h, tpr_h, thresholds_h = roc_curve(y_test, pred_hard)\n",
    "soft_voting,=plt.plot(fpr_s, tpr_s,marker='.',label='soft')\n",
    "hard_voting,=plt.plot(fpr_h, tpr_h,marker='.',label='hard')\n",
    "plt.legend([soft_voting, hard_voting],['soft_voting','hard_voting'])\n",
    "\n",
    "#Plot ROC curve for soft and hard voting\n",
    "plt.show()"
   ]
  },
  {
   "cell_type": "markdown",
   "metadata": {},
   "source": [
    "-------------------------------------------------------------------------------------------------------------------\n",
    "\n",
    "# #6.4.  Results:\n",
    "**Which one is better? Why?**\n",
    "\n",
    "Soft voting out-performs hard voting, because it adds more weight to the highly confident votes"
   ]
  },
  {
   "cell_type": "markdown",
   "metadata": {},
   "source": [
    "-------------------------------------------------------------------------------------------------------------------\n",
    "-------------------------------------------------------------------------------------------------------------------\n",
    "\n",
    "\n",
    "#  #7. Bagging Classifier with Extreme Trees Classifier\n",
    "1. With 100 classifiers\n",
    "2. Each trained on 500 instances\n",
    "\n",
    "### #7.1 Trained on all features (103)\n",
    "\n",
    "### #7.2 Trained with max_features set to 5\n",
    "\n",
    "### #7.3 Area under the curve as performance metric\n",
    "1. Compare hard and soft voting classifer\n",
    "\n",
    "### #7.4. Comparison results\n",
    "1. Which one is better and why"
   ]
  },
  {
   "cell_type": "markdown",
   "metadata": {},
   "source": [
    "-------------------------------------------------------------------------------------------------------------------\n",
    "\n",
    "# #7.1.  Bagging Classifier Score -- Trained on all features (max_features = 103)"
   ]
  },
  {
   "cell_type": "code",
   "execution_count": 34,
   "metadata": {},
   "outputs": [
    {
     "name": "stdout",
     "output_type": "stream",
     "text": [
      "\n",
      "Bagging Classifier with Extreme Trees Classifier\n",
      "\n",
      "Accurarcy score with ALL features (max_features=103) : \n",
      " BaggingClassifier 0.8428555641507349\n"
     ]
    }
   ],
   "source": [
    "#Bagging classifier for Extreme Trees Classifier with 100 classifiers, 500 instances, all features\n",
    "bag_clf_all=BaggingClassifier(ExtraTreesClassifier(),\n",
    "                          n_estimators=100, #100 classifiers\n",
    "                          max_samples=500, #500 instances\n",
    "                          bootstrap=True,\n",
    "                          n_jobs=-1,\n",
    "                          max_features=103, #all features (103)\n",
    "                          random_state=20)\n",
    "\n",
    "#Fit to train bag_clf_all\n",
    "bag_clf_all.fit(x_train,y_train)\n",
    "\n",
    "#Predict with test for y_pred_all\n",
    "y_pred_all=bag_clf_all.predict(x_test)\n",
    "\n",
    "#Print bagging classifier accuracy score\n",
    "print('\\nBagging Classifier with Extreme Trees Classifier\\n\\nAccurarcy score with ALL features (max_features=103) : \\n',\n",
    "      bag_clf_all.__class__.__name__,accuracy_score(y_test,y_pred_all))"
   ]
  },
  {
   "cell_type": "markdown",
   "metadata": {},
   "source": [
    "-------------------------------------------------------------------------------------------------------------------\n",
    "\n",
    "# #7.2.  Bagging Classifier Score -- Trained on max_features = 5"
   ]
  },
  {
   "cell_type": "code",
   "execution_count": 35,
   "metadata": {},
   "outputs": [
    {
     "name": "stdout",
     "output_type": "stream",
     "text": [
      "\n",
      "Bagging Classifier with Extreme Trees Classifier\n",
      "\n",
      "Accurarcy score with 5 features (max_features=5) : \n",
      " BaggingClassifier 0.7553320808929164\n"
     ]
    }
   ],
   "source": [
    "#Bagging classifier for Extreme Trees Classifier with 100 classifiers, 500 instances, 5 features\n",
    "bag_clf_five=BaggingClassifier(ExtraTreesClassifier(),\n",
    "                               n_estimators=100, #100 classifiers\n",
    "                               max_samples=500, #500 instances\n",
    "                               bootstrap=True,\n",
    "                               n_jobs=-1,\n",
    "                               max_features=5, #5 features\n",
    "                               random_state=20)\n",
    "#Fit to train bag_clf_five\n",
    "bag_clf_five.fit(x_train,y_train)\n",
    "\n",
    "#Predict with test for y_pred_five\n",
    "y_pred_five=bag_clf_five.predict(x_test)\n",
    "\n",
    "#Print bagging classifier accuracy score\n",
    "print('\\nBagging Classifier with Extreme Trees Classifier\\n\\nAccurarcy score with 5 features (max_features=5) : \\n',\n",
    "      bag_clf_five.__class__.__name__,accuracy_score(y_test,y_pred_five))"
   ]
  },
  {
   "cell_type": "markdown",
   "metadata": {},
   "source": [
    "-------------------------------------------------------------------------------------------------------------------\n",
    "\n",
    "# #7.3.  Area under the curve performance metric"
   ]
  },
  {
   "cell_type": "code",
   "execution_count": 36,
   "metadata": {},
   "outputs": [
    {
     "name": "stdout",
     "output_type": "stream",
     "text": [
      "AUC with all features: 0.755\n",
      "AUC with only five features: 0.500\n"
     ]
    },
    {
     "data": {
      "image/png": "[encoded data removed]",
      "text/plain": [
       "<Figure size 432x288 with 1 Axes>"
      ]
     },
     "metadata": {
      "needs_background": "light"
     },
     "output_type": "display_data"
    }
   ],
   "source": [
    "#Probabilty for all features\n",
    "probs_all=y_pred_all\n",
    "#Area under the curve ROC score for all features\n",
    "auc_all=roc_auc_score(y_test,probs_all)\n",
    "#Visualize the scores with ROC curve\n",
    "fpr_all, tpr_all, thresholds_all = roc_curve(y_test, probs_all)\n",
    "\n",
    "\n",
    "#Probabilty for 5 features\n",
    "probs_five=y_pred_five\n",
    "#Area under the curve ROC score for 5 features\n",
    "auc_five=roc_auc_score(y_test,probs_five)\n",
    "#Visualize the scores with ROC curve\n",
    "fpr_five, tpr_five, thresholds_five = roc_curve(y_test, probs_five)\n",
    "\n",
    "#Plot ROC curve for all features\n",
    "all,=plt.plot(fpr_all, tpr_all,marker='.',label='all_feature')\n",
    "#Plot ROC curve for 5 features\n",
    "five,=plt.plot(fpr_five, tpr_five,marker='.',label='five_feature')\n",
    "\n",
    "#Print AUC score for all features\n",
    "print(\"AUC with all features: %.3f\" % auc_all)\n",
    "#Print AUC score for 5 features\n",
    "print(\"AUC with only five features: %.3f\" % auc_five)\n",
    "\n",
    "#Plot Legends\n",
    "plt.legend([all,five],['all features','five features'])\n",
    "\n",
    "#Plot\n",
    "plt.show()"
   ]
  },
  {
   "cell_type": "markdown",
   "metadata": {},
   "source": [
    "-------------------------------------------------------------------------------------------------------------------\n",
    "\n",
    "# #7.4.  Results\n",
    "**Which one is better? Why?**\n",
    "\n",
    "Bagging with all features performs better than with only five features as it learns more about the data with more features.\n"
   ]
  },
  {
   "cell_type": "markdown",
   "metadata": {},
   "source": [
    "-------------------------------------------------------------------------------------------------------------------\n",
    "-------------------------------------------------------------------------------------------------------------------\n",
    "# #8. Gradient boosting classifier\n",
    "Gradient boosting is a machine learning technique for regression and classification problems, which produces a predection model in the form of an ensemble of weak prediction models, typically decision trees.\n",
    "\n",
    "**learning_rate**\n",
    "1. This determines the impact of each tree on the final outcome.\n",
    "2. Lower values are generally preferred as they make the model robust to the specific characteristics of tree and thus allowing it to generalize well.\n",
    "3. Lower values would require higher number of trees to model all the relations and will be computationally expensive.\n",
    "\n",
    "**n_estimators**\n",
    "1. The number of sequential trees to be modeled\n",
    "2. Though it is fairly robust at higher number of trees but it can still overfit at a point. Hence, this should be tuned using CV for a particular learning rate(cv).\n",
    "\n",
    "### #8.1 Train with various hyperparameters for learning_rates and n_estimators to find best hyperparameters and estimators for gradient boosting using Grid Search CV\n",
    "1. Set hyperparameters\n",
    "2. Tune using Grid Search CV\n",
    "3. Fit tuned to train\n",
    "4. Show best hyperparameters using Grid Search\n",
    "5. Show best estimators using Grid Search\n",
    "\n",
    "### #8.2 Boost with the different hyperparameters\n",
    "1. Use varied learning rates and n_estimators\n",
    "2. Fit to train\n",
    "3. Predict with test\n",
    "4. Find ROC AUC score\n",
    "5. Visualize ROC curve\n",
    "\n",
    "###   #8.3 Results\n",
    "1. Plot to see best AUC ROC scores"
   ]
  },
  {
   "cell_type": "markdown",
   "metadata": {},
   "source": [
    "-------------------------------------------------------------------------------------------------------------------\n",
    "\n",
    "# #8.1.  Train with following hyperparameters values:\n",
    "1. n_estimators: 10,50,100,120,130,150,180,200\n",
    "2. learning_rate: 0.10,0.15,0.25,0.3,0.35\n",
    "\n",
    "\n",
    "## Tune and find best hyperparameters for Gradient Boosting Classifier with Grid Search CV"
   ]
  },
  {
   "cell_type": "code",
   "execution_count": 62,
   "metadata": {
    "scrolled": true
   },
   "outputs": [
    {
     "data": {
      "text/plain": [
       "GridSearchCV(cv=20, error_score='raise-deprecating',\n",
       "             estimator=GradientBoostingClassifier(criterion='friedman_mse',\n",
       "                                                  init=None, learning_rate=0.1,\n",
       "                                                  loss='deviance', max_depth=3,\n",
       "                                                  max_features=None,\n",
       "                                                  max_leaf_nodes=None,\n",
       "                                                  min_impurity_decrease=0.0,\n",
       "                                                  min_impurity_split=None,\n",
       "                                                  min_samples_leaf=1,\n",
       "                                                  min_samples_split=2,\n",
       "                                                  min_weight_fraction_leaf=0.0,\n",
       "                                                  n_estimators=100,\n",
       "                                                  n_iter_no_change=None,\n",
       "                                                  presort='auto',\n",
       "                                                  random_state=20,\n",
       "                                                  subsample=1.0, tol=0.0001,\n",
       "                                                  validation_fraction=0.1,\n",
       "                                                  verbose=0, warm_start=False),\n",
       "             iid='warn', n_jobs=-1,\n",
       "             param_grid=[{'learning_rate': [0.1, 0.15, 0.25, 0.3, 0.35],\n",
       "                          'n_estimators': [10, 50, 100, 120, 130, 150, 180,\n",
       "                                           200]}],\n",
       "             pre_dispatch='2*n_jobs', refit=True, return_train_score=False,\n",
       "             scoring='accuracy', verbose=0)"
      ]
     },
     "execution_count": 62,
     "metadata": {},
     "output_type": "execute_result"
    }
   ],
   "source": [
    "#Set hyperparameters for n_estimators and learning_rates\n",
    "hyper_param=[{'n_estimators':[10,50,100,120,130,150,180,200],'learning_rate':[0.10,0.15,0.25,0.3,0.35]},]\n",
    "\n",
    "#Using Grid search CV with above n_estimators and learning rates\n",
    "tuning=GridSearchCV(estimator=GradientBoostingClassifier(random_state=20),param_grid=hyper_param,\n",
    "                    scoring='accuracy',n_jobs=-1,cv=20)\n",
    "\n",
    "#Fit to tune best hyperparameters\n",
    "tuning.fit(x_train,y_train)"
   ]
  },
  {
   "cell_type": "code",
   "execution_count": 114,
   "metadata": {},
   "outputs": [
    {
     "name": "stdout",
     "output_type": "stream",
     "text": [
      "\n",
      "Best hyperparameters found using Grid Search CV :\n",
      "\n"
     ]
    },
    {
     "data": {
      "text/plain": [
       "{'learning_rate': 0.25, 'n_estimators': 150}"
      ]
     },
     "execution_count": 114,
     "metadata": {},
     "output_type": "execute_result"
    }
   ],
   "source": [
    "#Find best hyperparameters\n",
    "print('\\nBest hyperparameters found using Grid Search CV :\\n')\n",
    "tuning.best_params_"
   ]
  },
  {
   "cell_type": "code",
   "execution_count": 115,
   "metadata": {},
   "outputs": [
    {
     "name": "stdout",
     "output_type": "stream",
     "text": [
      "\n",
      "Best estimators found using Grid Search CV : \n",
      "\n"
     ]
    },
    {
     "data": {
      "text/plain": [
       "GradientBoostingClassifier(criterion='friedman_mse', init=None,\n",
       "                           learning_rate=0.25, loss='deviance', max_depth=3,\n",
       "                           max_features=None, max_leaf_nodes=None,\n",
       "                           min_impurity_decrease=0.0, min_impurity_split=None,\n",
       "                           min_samples_leaf=1, min_samples_split=2,\n",
       "                           min_weight_fraction_leaf=0.0, n_estimators=150,\n",
       "                           n_iter_no_change=None, presort='auto',\n",
       "                           random_state=20, subsample=1.0, tol=0.0001,\n",
       "                           validation_fraction=0.1, verbose=0,\n",
       "                           warm_start=False)"
      ]
     },
     "execution_count": 115,
     "metadata": {},
     "output_type": "execute_result"
    }
   ],
   "source": [
    "#Find best estimators\n",
    "print('\\nBest estimators found using Grid Search CV : \\n')\n",
    "tuning.best_estimator_"
   ]
  },
  {
   "cell_type": "markdown",
   "metadata": {},
   "source": [
    "-------------------------------------------------------------------------------------------------------------------\n",
    "\n",
    "# #8.2  Gradient Boosting #1\n",
    "## learning_rate  = 0.1, n_estimators=10"
   ]
  },
  {
   "cell_type": "code",
   "execution_count": 108,
   "metadata": {},
   "outputs": [
    {
     "name": "stdout",
     "output_type": "stream",
     "text": [
      "learning_rate=0.1\n",
      "_estimators=10\n",
      "\n",
      "AUC score:\n",
      " 0.6197979011002009\n"
     ]
    }
   ],
   "source": [
    "#Boost with Gradient Boosting Classifier with learning rate = 0.1, n_estimators=10\n",
    "gcb_1=GradientBoostingClassifier(learning_rate=0.1,max_depth=3,random_state=20,n_estimators=10)\n",
    "\n",
    "#Fit to  train\n",
    "gcb_1.fit(x_train,y_train)\n",
    "\n",
    "#Predict with test\n",
    "y_pred_1=gcb_1.predict(x_test)\n",
    "\n",
    "#ROC AUC score\n",
    "roc_auc_1=roc_auc_score(y_test,y_pred_1)\n",
    "\n",
    "#Visualize the scores for ROC curve\n",
    "fpr_1,tpr_1,threshold_1=roc_curve(y_test,gcb_1.predict_proba(x_test)[...,1])\n",
    "\n",
    "\n",
    "#Print AUC score\n",
    "print('learning_rate=0.1\\n_estimators=10\\n\\nAUC score:\\n',roc_auc_1)"
   ]
  },
  {
   "cell_type": "markdown",
   "metadata": {},
   "source": [
    "# #8.2  Gradient Boosting #2\n",
    "## learning_rate  = 0.2, n_estimators=130"
   ]
  },
  {
   "cell_type": "code",
   "execution_count": 109,
   "metadata": {},
   "outputs": [
    {
     "name": "stdout",
     "output_type": "stream",
     "text": [
      "learning_rate=0.25\n",
      "_estimators=130\n",
      "\n",
      "AUC score:\n",
      " 0.7958880740965419\n"
     ]
    }
   ],
   "source": [
    "#Boost with Gradient Boosting Classifier with learning rate = 0.2, n_estimators=130\n",
    "gcb_2=GradientBoostingClassifier(learning_rate=0.2,max_depth=3,random_state=20,n_estimators=130)\n",
    "\n",
    "#Fit to  train\n",
    "gcb_2.fit(x_train,y_train)\n",
    "\n",
    "#Predict with test\n",
    "y_pred_2=gcb_2.predict(x_test)\n",
    "\n",
    "#ROC AUC score\n",
    "roc_auc_2=roc_auc_score(y_test,y_pred_2)\n",
    "\n",
    "#Visualize the scores for ROC curve\n",
    "fpr_2,tpr_2,threshold_2=roc_curve(y_test,gcb_2.predict_proba(x_test)[...,1])\n",
    "\n",
    "#Print AUC score\n",
    "print('learning_rate=0.25\\n_estimators=130\\n\\nAUC score:\\n',roc_auc_2)"
   ]
  },
  {
   "cell_type": "markdown",
   "metadata": {},
   "source": [
    "# #8.2  Gradient Boosting #3\n",
    "## learning_rate  = 0.25, n_estimators=150\n",
    "**This was found to be the best combination using Grid Search**"
   ]
  },
  {
   "cell_type": "code",
   "execution_count": 110,
   "metadata": {},
   "outputs": [
    {
     "name": "stdout",
     "output_type": "stream",
     "text": [
      "learning_rate=0.25\n",
      "_estimators=150\n",
      "\n",
      "AUC score:\n",
      " 0.7994252839382819\n"
     ]
    }
   ],
   "source": [
    "#Boost with Gradient Boosting Classifier with learning rate = 0.25, n_estimators=150\n",
    "gcb_3=GradientBoostingClassifier(learning_rate=0.25,max_depth=3,random_state=20,n_estimators=150)\n",
    "\n",
    "#Fit to  train\n",
    "gcb_3.fit(x_train,y_train)\n",
    "\n",
    "#Predict with test\n",
    "y_pred_3=gcb_modified_1.predict(x_test)\n",
    "\n",
    "#ROC AUC score\n",
    "roc_auc_3=roc_auc_score(y_test,y_pred_3)\n",
    "\n",
    "#Visualize the scores for ROC curve\n",
    "fpr_3,tpr_3,threshold_3=roc_curve(y_test,gcb_3.predict_proba(x_test)[...,1])\n",
    "\n",
    "#Print AUC score\n",
    "print('learning_rate=0.25\\n_estimators=150\\n\\nAUC score:\\n',roc_auc_3)"
   ]
  },
  {
   "cell_type": "markdown",
   "metadata": {},
   "source": [
    "# #8.2  Gradient Boosting #4\n",
    "## learning_rate  = 0.3, n_estimators=180"
   ]
  },
  {
   "cell_type": "code",
   "execution_count": 111,
   "metadata": {},
   "outputs": [
    {
     "name": "stdout",
     "output_type": "stream",
     "text": [
      "learning_rate=0.3\n",
      "_estimators=200\n",
      "\n",
      "AUC score:\n",
      " 0.7994252839382819\n"
     ]
    }
   ],
   "source": [
    "#Boost with Gradient Boosting Classifier with learning rate = 0.3, n_estimators=180\n",
    "gcb_4=GradientBoostingClassifier(learning_rate=0.30,max_depth=3,random_state=20,n_estimators=180)\n",
    "\n",
    "#Fit to  train\n",
    "gcb_4.fit(x_train,y_train)\n",
    "\n",
    "#Predict with test\n",
    "y_pred_4=gcb_modified_1.predict(x_test)\n",
    "\n",
    "#ROC AUC score\n",
    "roc_auc_4=roc_auc_score(y_test,y_pred_4)\n",
    "\n",
    "#Visualize the scores for ROC curve\n",
    "fpr_4,tpr_4,threshold_4=roc_curve(y_test,gcb_4.predict_proba(x_test)[...,1])\n",
    "\n",
    "#Print AUC score\n",
    "print('learning_rate=0.3\\n_estimators=200\\n\\nAUC score:\\n',roc_auc_4)"
   ]
  },
  {
   "cell_type": "markdown",
   "metadata": {},
   "source": [
    "# #8.2  Gradient Boosting #5\n",
    "## learning_rate  = 0.35, n_estimators=200"
   ]
  },
  {
   "cell_type": "code",
   "execution_count": 112,
   "metadata": {},
   "outputs": [
    {
     "name": "stdout",
     "output_type": "stream",
     "text": [
      "learning_rate=5.0\n",
      "_estimators=200\n",
      "\n",
      "AUC score:\n",
      " 0.7994252839382819\n"
     ]
    }
   ],
   "source": [
    "#Boost with Gradient Boosting Classifier with learning rate = 0.35, n_estimators=200\n",
    "gcb_5=GradientBoostingClassifier(learning_rate=0.35,max_depth=3,random_state=20,n_estimators=200)\n",
    "\n",
    "#Fit to  train\n",
    "gcb_5.fit(x_train,y_train)\n",
    "\n",
    "#Predict with test\n",
    "y_pred_5=gcb_modified_1.predict(x_test)\n",
    "\n",
    "#ROC AUC score\n",
    "roc_auc_5=roc_auc_score(y_test,y_pred_5)\n",
    "\n",
    "#Visualize the scores for ROC curve\n",
    "fpr_5,tpr_5,threshold_5=roc_curve(y_test,gcb_5.predict_proba(x_test)[...,1])\n",
    "\n",
    "#Print AUC score\n",
    "print('learning_rate=5.0\\n_estimators=200\\n\\nAUC score:\\n',roc_auc_5)"
   ]
  },
  {
   "cell_type": "markdown",
   "metadata": {},
   "source": [
    "-------------------------------------------------------------------------------------------------------------------\n",
    "\n",
    "# #8.4 Results"
   ]
  },
  {
   "cell_type": "code",
   "execution_count": 113,
   "metadata": {},
   "outputs": [
    {
     "data": {
      "image/png": "[encoded data removed]",
      "text/plain": [
       "<Figure size 432x288 with 1 Axes>"
      ]
     },
     "metadata": {
      "needs_background": "light"
     },
     "output_type": "display_data"
    }
   ],
   "source": [
    "#Plot Gradient Boosting scores for learning rate = 0.1, n_estimators=10\n",
    "plot_one,=plt.plot(fpr_1,tpr_1,label=\"learning_rate=0.1,estimator=10 (%0.2f)\"%roc_auc_1)\n",
    "\n",
    "#Plot Gradient Boosting scores for learning rate = 0.2, n_estimators=130\n",
    "plot_two,=plt.plot(fpr_2,tpr_2,label=\"learning_rate=0.25,estimator=130 (%0.2f)\"%roc_auc_2)\n",
    "\n",
    "#Plot Gradient Boosting scores for learning rate = 0.25, n_estimators=150\n",
    "plot_three,=plt.plot(fpr_3,tpr_3,label=\"learning_rate=0.25,estimator=150 (%0.2f)\"%roc_auc_3)\n",
    "\n",
    "#Plot Gradient Boosting scores for learning rate = 0.3, n_estimators=180\n",
    "plot_four,=plt.plot(fpr_4,tpr_4,label=\"learning_rate=0.30,estimator=200 (%0.2f)\"%roc_auc_4)\n",
    "\n",
    "#Plot Gradient Boosting scores for learning rate = 0.35, n_estimators=200\n",
    "plot_five,=plt.plot(fpr_5,tpr_5,label=\"learning_rate=5.0,estimator=200 (%0.2f)\"%roc_auc_5)\n",
    "\n",
    "#Legend for plot\n",
    "plt.legend([plot_one,plot_two,plot_three,plot_four,plot_five],\n",
    "           [(\"lr=0.1,e=10 (%0.2f)\" %roc_auc_1),#learning rate = 0.1, n_estimators=10\n",
    "            (\"lr=0.25,e=130 (%0.2f)\" %roc_auc_2),#learning rate = 0.2, n_estimators=130\n",
    "            (\"lr=0.25,e=150 (%0.2f)\" %roc_auc_3),#learning rate = 0.25, n_estimators=150\n",
    "            (\"lr=0.30,e=200 (%0.2f)\" %roc_auc_4),#learning rate = 0.3, n_estimators=180\n",
    "            (\"lr=5.0,e=200 (%0.2f)\" %roc_auc_5)#learning rate = 0.35, n_estimators=200\n",
    "           ])\n",
    "plt.ylabel('True positives')\n",
    "plt.xlabel('False positives')\n",
    "\n",
    "#Plot\n",
    "plt.show()"
   ]
  }
 ],
 "metadata": {
  "kernelspec": {
   "display_name": "Python 3",
   "language": "python",
   "name": "python3"
  },
  "language_info": {
   "codemirror_mode": {
    "name": "ipython",
    "version": 3
   },
   "file_extension": ".py",
   "mimetype": "text/x-python",
   "name": "python",
   "nbconvert_exporter": "python",
   "pygments_lexer": "ipython3",
   "version": "3.7.5"
  }
 },
 "nbformat": 4,
 "nbformat_minor": 2
}
